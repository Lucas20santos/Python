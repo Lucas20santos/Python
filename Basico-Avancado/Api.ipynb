{
 "cells": [
  {
   "cell_type": "code",
   "execution_count": 2,
   "metadata": {},
   "outputs": [],
   "source": [
    "import requests as r"
   ]
  },
  {
   "cell_type": "code",
   "execution_count": 5,
   "metadata": {},
   "outputs": [],
   "source": [
    "url = 'https://api.exchangerate-api.com/v6/latest'\n",
    "req = r.get(url)\n",
    "\n",
    "if req.status_code == 200:\n",
    "    dados = req.json()"
   ]
  },
  {
   "cell_type": "code",
   "execution_count": 6,
   "metadata": {},
   "outputs": [
    {
     "name": "stdout",
     "output_type": "stream",
     "text": [
      "1US$ = 5.192404\n",
      "O valor R$ 200.0 vale US$ 38.518!\n"
     ]
    }
   ],
   "source": [
    "valor_reais: float = float(input('Informe o valor a ser convertido: '))\n",
    "\n",
    "cotacao = dados['rates']['BRL']\n",
    "\n",
    "print(f'1US$ = {cotacao}')\n",
    "print(f'O valor R$ {valor_reais} vale US$ {round(valor_reais / cotacao, 3)}!')\n"
   ]
  }
 ],
 "metadata": {
  "kernelspec": {
   "display_name": "Python 3.9.13 64-bit ('anaconda3')",
   "language": "python",
   "name": "python3"
  },
  "language_info": {
   "codemirror_mode": {
    "name": "ipython",
    "version": 3
   },
   "file_extension": ".py",
   "mimetype": "text/x-python",
   "name": "python",
   "nbconvert_exporter": "python",
   "pygments_lexer": "ipython3",
   "version": "3.9.13"
  },
  "orig_nbformat": 4,
  "vscode": {
   "interpreter": {
    "hash": "b374090b9e3a91cb378a355e74cf53c50c11ec9e2ebccc4044b96376c21acf49"
   }
  }
 },
 "nbformat": 4,
 "nbformat_minor": 2
}
