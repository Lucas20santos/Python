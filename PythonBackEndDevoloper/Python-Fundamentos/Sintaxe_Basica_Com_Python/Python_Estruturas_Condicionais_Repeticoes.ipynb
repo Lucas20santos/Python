{
  "nbformat": 4,
  "nbformat_minor": 0,
  "metadata": {
    "colab": {
      "provenance": [],
      "authorship_tag": "ABX9TyMrzGFcR7MKThX8RfxZ2mEu",
      "include_colab_link": true
    },
    "kernelspec": {
      "name": "python3",
      "display_name": "Python 3"
    },
    "language_info": {
      "name": "python"
    }
  },
  "cells": [
    {
      "cell_type": "markdown",
      "metadata": {
        "id": "view-in-github",
        "colab_type": "text"
      },
      "source": [
        "<a href=\"https://colab.research.google.com/github/Lucas20santos/Python/blob/main/Python_Estruturas_Condicionais_Repeticoes.ipynb\" target=\"_parent\"><img src=\"https://colab.research.google.com/assets/colab-badge.svg\" alt=\"Open In Colab\"/></a>"
      ]
    },
    {
      "cell_type": "markdown",
      "source": [
        "# Identação e Blocos\n",
        "\n",
        "## A estética\n",
        "\n",
        "Identar código é uma forma de manter o código fonte mais legível e manutenível. Mas em Python ela exerce um segundo papel, através da identação o interpretador consegue determinar onde um bloco de comando inicia e onde ele termina.\n",
        "\n",
        "## Bloco de comando\n",
        "\n",
        "As linguagens de programação constumam utilizar caracteres ou palavras reservadas para terminar o início e fim do bloco. Em Java e C por exemplo, utilizamos chaves:\n",
        "\n",
        "## Utilizando espaços\n",
        "\n",
        "Existe uma convenção em Python, que define as boas práticas para escrita de código na linguagem. Nesse documento é indicado utilizar 4 espaços por nível de identação, ou seja, a cada novo bloco adicionamos 4 novos espaços em branco.\n"
      ],
      "metadata": {
        "id": "ue9esIWW2y3z"
      }
    },
    {
      "cell_type": "code",
      "source": [
        "# Identação em Python\n",
        "\n",
        "class banco(object):\n",
        "  def __init__(self):\n",
        "    print(\"Conta aberta\")\n",
        "    self.saldo = 0\n",
        "\n",
        "  def sacar(self, valor: float) -> None:\n",
        "    if self.saldo >= valor:\n",
        "      self.saldo -= valor\n",
        "    else:\n",
        "      print(\"Valor informado maior que seu saldo\")\n",
        "  def depositar(self, valor: float) -> None:\n",
        "    self.saldo += valor\n",
        "\n",
        "b = banco()\n",
        "b.sacar(200)"
      ],
      "metadata": {
        "colab": {
          "base_uri": "https://localhost:8080/"
        },
        "id": "qJVXJNRv3Rsc",
        "outputId": "e011ba80-7fea-4656-fe8c-8fd82b8131ed"
      },
      "execution_count": null,
      "outputs": [
        {
          "output_type": "stream",
          "name": "stdout",
          "text": [
            "Conta aberta\n",
            "Valor informado maior que seu saldo\n"
          ]
        }
      ]
    },
    {
      "cell_type": "markdown",
      "source": [
        "# Estrutura condicionais\n",
        "\n",
        "## if / if-else / elif\n",
        "\n",
        "### O que são\n",
        "\n",
        "A estrutura condicional permite o desvio de fluxo de controle, quando determinadas expressões lógicas são atendidas.\n",
        "\n",
        "### if\n",
        "\n",
        "Para criar uma estrutura condicional simples, composta por um único desvio, podemos utilizar a palavra reservada if. O comando irá testar a expressão lógica, e em caso de retorno verdadeiro as ações presentes no bloco de código do if serão executadas.\n",
        "\n"
      ],
      "metadata": {
        "id": "qeN0QqC1-h84"
      }
    },
    {
      "cell_type": "code",
      "execution_count": null,
      "metadata": {
        "id": "VD70N4Zo2o_6",
        "colab": {
          "base_uri": "https://localhost:8080/"
        },
        "outputId": "6f0a8b98-061d-4b3d-8977-393fc0a6dc33"
      },
      "outputs": [
        {
          "output_type": "stream",
          "name": "stdout",
          "text": [
            "Voce pode tirar sua carteira de motorista\n",
            "Informe o valor do saque: 23\n",
            "Realizando saque!\n"
          ]
        }
      ],
      "source": [
        "idade = 20\n",
        "MaiorIdade = 18\n",
        "\n",
        "if idade >= MaiorIdade:\n",
        "  print(\"Voce pode tirar sua carteira de motorista\")\n",
        "\n",
        "saldo = 200\n",
        "\n",
        "saque = float(input(\"Informe o valor do saque: \"))\n",
        "\n",
        "if saldo >= saque:\n",
        "  print(\"Realizando saque!\")\n",
        "\n",
        "if saldo < saque:\n",
        "  print(\"Saldo insuficiente!\")\n"
      ]
    },
    {
      "cell_type": "markdown",
      "source": [
        "## **If/else**\n",
        "\n",
        "Para criar uma estrutura condicional com dois desvios, podemos utilizar as palavras reservadas if e else. Como sabemos se a expressão lógica testada no if for verdadeira, então o bloco de código do if será executado. Caso contrário o bloco de código do else será executado.\n",
        "\n"
      ],
      "metadata": {
        "id": "Sg43DndfWX7Z"
      }
    },
    {
      "cell_type": "code",
      "source": [
        "saldo = 2000.0\n",
        "\n",
        "saque = float(input(\"Informe o valor do saque: \"))\n",
        "\n",
        "if saldo >= saque:\n",
        "  print(\"Realizando saque!\")\n",
        "else:\n",
        "  print(\"Saldo insuficiente!\")\n"
      ],
      "metadata": {
        "colab": {
          "base_uri": "https://localhost:8080/"
        },
        "id": "ywXrAm1nW5Cx",
        "outputId": "4a308a11-acaa-47d6-b302-6fc5323941bd"
      },
      "execution_count": null,
      "outputs": [
        {
          "output_type": "stream",
          "name": "stdout",
          "text": [
            "Informe o valor do saque: 3000\n",
            "Saldo insuficiente!\n"
          ]
        }
      ]
    },
    {
      "cell_type": "markdown",
      "source": [
        "## if/elif/else\n",
        "\n",
        "Em alguns cenários queremos mais de dois desvios, para isso podemos utilizar a palavra reservada elif. O elif é composto por uma nova expressão lógica, que será testada e caso retorne verdadeiro o bloco de código, que será testada e caso retorne verdadeiro o bloco de código do elif será executado. Não existe um númeor máximo de elifs que podemos utilizar, porém evite criar grandes estrutuas condicionais, pois elas aumentam a complexidade do código."
      ],
      "metadata": {
        "id": "bmn4opeHXOQs"
      }
    },
    {
      "cell_type": "code",
      "source": [
        "import sys\n",
        "opcao = int(input(\"Informe uma opção: [1] Sacar\\n[2] Extrato: \"))\n",
        "\n",
        "if opcao == 1:\n",
        "  valor = float(input(\"Informe a quantia para o saque: \"))\n",
        "elif opcao == 2:\n",
        "  print(\"Exibindo o extrato...\")\n",
        "else:\n",
        "  sys.exit(\"Opção inválida\")"
      ],
      "metadata": {
        "colab": {
          "base_uri": "https://localhost:8080/"
        },
        "id": "3EQVNjyxXCG8",
        "outputId": "1d3706dd-f568-4466-d3f7-303546b52ddb"
      },
      "execution_count": null,
      "outputs": [
        {
          "name": "stdout",
          "output_type": "stream",
          "text": [
            "Informe uma opção: [1] Sacar\n",
            "[2] Extrato: 1\n",
            "Informe a quantia para o saque: 789\n"
          ]
        }
      ]
    },
    {
      "cell_type": "markdown",
      "source": [
        "## If aninhado\n",
        "\n",
        "Podemos criar estruturas condicionais aninhadas, para isso basta adicionar estruturas if/elif/else dentro do bloco de código de estruturas if/elif/else\n",
        "\n",
        "\n"
      ],
      "metadata": {
        "id": "UElAkzwNYuu1"
      }
    },
    {
      "cell_type": "code",
      "source": [
        "conta_normal = False\n",
        "conta_universitaria = False\n",
        "saldo = 200\n",
        "saque = 100\n",
        "cheque_especial = 400\n",
        "\n",
        "if conta_normal:\n",
        "  print(\"Conta Normal!\")\n",
        "  if saldo >= saque:\n",
        "    print(\"Saque realizado com sucesso!\")\n",
        "  elif saque <= (saldo + cheque_especial):\n",
        "    print(\"Saque realizado com uso do cheque especial!\")\n",
        "elif conta_universitaria:\n",
        "  print(\"Conta Universitária!\")\n",
        "  if saldo >= saque:\n",
        "    print(\"Saque realizado com sucesso!\")\n",
        "  else:\n",
        "    print(\"Saldo insuficiente!\")\n",
        "else:\n",
        "  print(\"O tipo de conta não foi reconhecida, entre em contato com o seu gerente!\")\n"
      ],
      "metadata": {
        "colab": {
          "base_uri": "https://localhost:8080/"
        },
        "id": "FOpD9Uq8YgDg",
        "outputId": "88ef91d7-a621-41db-d518-9719d034fc78"
      },
      "execution_count": null,
      "outputs": [
        {
          "output_type": "stream",
          "name": "stdout",
          "text": [
            "O tipo de conta não foi reconhecida, entre em contato com o seu gerente!\n"
          ]
        }
      ]
    },
    {
      "cell_type": "markdown",
      "source": [
        "## If ternário\n",
        "\n",
        "O if ternário permite escrever uma condição em uma única linha. Ele é composto por três partes, a primeira parte é o retorno caso a expressão retorne verdadeiro, a segunda parte é a expressão lógica e a terceira parte é o retorno caso a expressão não seja atendida.\n"
      ],
      "metadata": {
        "id": "ceV5SPfqYtOR"
      }
    },
    {
      "cell_type": "code",
      "source": [
        "status = \"Sucesso\" if saldo >= saque else \"Falha\"\n",
        "\n",
        "print(f\"{status} ao realizar o saque!\")\n",
        "print(f\"{status} ao realizar o saque!\")\n"
      ],
      "metadata": {
        "colab": {
          "base_uri": "https://localhost:8080/"
        },
        "id": "1ZVPrVYaeG4V",
        "outputId": "d7ecc056-905c-433b-9864-415e015ca940"
      },
      "execution_count": null,
      "outputs": [
        {
          "output_type": "stream",
          "name": "stdout",
          "text": [
            "Sucesso ao realizar o saque!\n",
            "Sucesso ao realizar o saque!\n"
          ]
        }
      ]
    }
  ]
}