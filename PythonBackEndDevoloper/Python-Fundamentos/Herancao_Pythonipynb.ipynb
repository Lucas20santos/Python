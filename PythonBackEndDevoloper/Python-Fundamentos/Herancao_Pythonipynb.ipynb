{
  "nbformat": 4,
  "nbformat_minor": 0,
  "metadata": {
    "colab": {
      "provenance": [],
      "authorship_tag": "ABX9TyPcVfJ9IGtpWQ2gzVP6u9OU",
      "include_colab_link": true
    },
    "kernelspec": {
      "name": "python3",
      "display_name": "Python 3"
    },
    "language_info": {
      "name": "python"
    }
  },
  "cells": [
    {
      "cell_type": "markdown",
      "metadata": {
        "id": "view-in-github",
        "colab_type": "text"
      },
      "source": [
        "<a href=\"https://colab.research.google.com/github/Lucas20santos/Python/blob/master/Herancao_Pythonipynb.ipynb\" target=\"_parent\"><img src=\"https://colab.research.google.com/assets/colab-badge.svg\" alt=\"Open In Colab\"/></a>"
      ]
    },
    {
      "cell_type": "markdown",
      "source": [
        "# Herança em Python\n",
        "\n",
        "## Herança em POO\n",
        "\n",
        "### O que é herança ?\n",
        "\n",
        "Em programação herança é a capacidade de uma classe filha derivar ou herdar as características e comportamentos da classe pai(base).\n",
        "\n",
        "### Benefícios da herança\n",
        "\n",
        "- Representa bem os relacionamentos do mundo real.\n",
        "- \\*Fornece reutilização de código, não precisamos escrever o mesmo código repetidamente. Além disso, permite adicionar mais recursos a uma classe em modificá-la.\n",
        "- \\*É de natureza transitida, o que sifnifica que, se a classe B herdar da classe A, todas as subclasses de B herdarão automaticamente da classe A.\n"
      ],
      "metadata": {
        "id": "8SSBavKfhxUr"
      }
    },
    {
      "cell_type": "code",
      "execution_count": null,
      "metadata": {
        "id": "ESsCX2Zehk6z"
      },
      "outputs": [],
      "source": [
        "# Herança simples\n",
        "class A:\n",
        "  pass\n",
        "\n",
        "class B(A):\n",
        "  pass\n"
      ]
    },
    {
      "cell_type": "markdown",
      "source": [
        "## Herança simples e herança múltipla\n",
        "\n",
        "### Herança simples\n",
        "\n",
        "Quando uma classe filha herda apenas uma classe pai, ela é chamada de herança simples.\n",
        "\n",
        "### Herança multiplas\n",
        "\n",
        "Quando uma casse filha herda de várias classes pai, ela é chamada de herança múltipla.\n"
      ],
      "metadata": {
        "id": "IrcQdCd3kSG0"
      }
    },
    {
      "cell_type": "code",
      "source": [
        "# Herança multiplas\n",
        "class A:\n",
        "  pass\n",
        "\n",
        "class B:\n",
        "  pass\n",
        "\n",
        "class C(A, B):\n",
        "  pass\n"
      ],
      "metadata": {
        "id": "EKuTiGt-kws4"
      },
      "execution_count": null,
      "outputs": []
    },
    {
      "cell_type": "markdown",
      "source": [
        "## Hands-on: Herança Simples ou única"
      ],
      "metadata": {
        "id": "rYCfkqbDlS4X"
      }
    },
    {
      "cell_type": "code",
      "source": [
        "class Veiculo:\n",
        "  def __init__(self, cor, placa, numero_rodas) -> None:\n",
        "    self.cor = cor\n",
        "    self.placa = placa\n",
        "    self.numero_rodas = numero_rodas\n",
        "\n",
        "  def ligar_motor(self):\n",
        "    print(\"Ligando o motor\")\n",
        "\n",
        "class Motocicleta(Veiculo):\n",
        "  pass\n",
        "\n",
        "# Se não for colocado a palavra reserva super(), os parametros do construtor do\n",
        "# caminhao vai sobreescrever os parametros da classe pai. Para isso não acontecer\n",
        "# colocamos super() e dentro dele os parametros que queremos herdar da classe pai\n",
        "class Caminhao(Veiculo):\n",
        "  def __init__(self, cor, placa, numero_rodas, carregado) -> None:\n",
        "    super().__init__(cor, placa, numero_rodas)\n",
        "    self.carregado = carregado\n",
        "\n",
        "  def esta_carregado(self):\n",
        "    print(f\"{'SIM' if self.carregado else 'NAO'}\")\n",
        "\n",
        "class Carro(Veiculo):\n",
        "  pass\n",
        "\n",
        "\n",
        "m1 = Motocicleta(\"preta\", \"abc-1234\", 2)\n",
        "m1.ligar_motor()\n",
        "\n",
        "c1 = Carro(\"branco\", \"acd-5678\", 4)\n",
        "c1.ligar_motor()\n",
        "\n",
        "k1 = Caminhao(\"Azul\", \"dfr-3478\", 8, True)\n",
        "k1.ligar_motor()\n",
        "\n"
      ],
      "metadata": {
        "colab": {
          "base_uri": "https://localhost:8080/"
        },
        "id": "X24w4csklW0T",
        "outputId": "28f681f5-ded3-45ed-87ca-2ed01d04f83d"
      },
      "execution_count": 1,
      "outputs": [
        {
          "output_type": "stream",
          "name": "stdout",
          "text": [
            "Ligando o motor\n",
            "Ligando o motor\n",
            "Ligando o motor\n"
          ]
        }
      ]
    },
    {
      "cell_type": "markdown",
      "source": [
        "### Hands-on: Herança Multiplas"
      ],
      "metadata": {
        "id": "WkkEmLprpEqb"
      }
    },
    {
      "cell_type": "code",
      "source": [
        "class Animal:\n",
        "  def __init__(self, nro_patas, corrida) -> None:\n",
        "    self.nro_patas = nro_patas\n",
        "    self.corrida = corrida\n",
        "\n",
        "  def __str__(self) -> str:\n",
        "      return f\"{self.__class__.__name__}: {', '.join([f'{chave} = {valor}' for chave, valor in self.__dict__.items()])}\"\n",
        "\n",
        "\n",
        "# Foi removido o parametro que existe em comum com a classe pai\n",
        "# Foi removido o modo de atribuição do parametro self.cor_pelo = cor_pelo, por que\n",
        "# fica redudante já que na classe pai esté sendo atribuido\n",
        "# usado kwargs para passar todos os parametros da classe pai para as classes filha\n",
        "# e na classe filha só ficaram os parametros que são próprios delas.\n",
        "class Mamifero(Animal):\n",
        "  def __init__(self, cor_pelo, **kw) -> None:\n",
        "    super().__init__(**kw)\n",
        "    self.cor_pelo = cor_pelo\n",
        "\n",
        "class Ave(Animal):\n",
        "  def __init__(self, cor_bico ,**kw) -> None:\n",
        "    super().__init__(**kw)\n",
        "    self.cor_bico = cor_bico\n",
        "\n",
        "# class Cachorro(Mamifero):\n",
        "#   pass\n",
        "\n",
        "# class Gato(Mamifero):\n",
        "#   pass\n",
        "\n",
        "# class Leao(Mamifero):\n",
        "#   pass\n",
        "\n",
        "class Onitorrinco(Mamifero, Ave):\n",
        "  def __init__(self, cor_pelo, **kw) -> None:\n",
        "    print(Onitorrinco.__mro__)\n",
        "    super().__init__(cor_pelo, **kw)\n",
        "\n",
        "\n",
        "# ga1 = Gato(nro_patas=4, cor_pelo='Preto')\n",
        "# print(ga1)\n",
        "\n",
        "or1 = Onitorrinco(nro_patas=2, corrida=True, cor_pelo='Preto', cor_bico=\"branco\")\n",
        "print(or1)"
      ],
      "metadata": {
        "colab": {
          "base_uri": "https://localhost:8080/"
        },
        "id": "F9fxAinTpImZ",
        "outputId": "9bd3bf3e-6659-4e20-b038-38db2c357c55"
      },
      "execution_count": 22,
      "outputs": [
        {
          "output_type": "stream",
          "name": "stdout",
          "text": [
            "Onitorrinco: nro_patas = 2, corrida = True, cor_bico = branco, cor_pelo = Preto\n"
          ]
        }
      ]
    },
    {
      "cell_type": "markdown",
      "source": [
        "## Complemento do estudo de herança"
      ],
      "metadata": {
        "id": "PhYeK6Z7y0kf"
      }
    },
    {
      "cell_type": "code",
      "source": [
        "class Portuguese(object):\n",
        "  def greet(self):\n",
        "    print(\"Oi\")\n",
        "\n",
        "class English(object):\n",
        "  def greet(self):\n",
        "    print(\"Hi\")\n",
        "\n",
        "# Ele vai imprimir primeiro a função da primeira classe passado dentro dos parâmetro.\n",
        "# Nesse Exemplo vai imprimir OI\n",
        "class Bilingual(Portuguese, English):\n",
        "  pass\n",
        "\n",
        "Bilingual().greet()\n",
        "\n",
        "# Nesse exemplo HI\n",
        "# No Python, em casos de herança múltipla, a prioridade é definida da esquerda para a direita:\n",
        "class Bilingual(English, Portuguese):\n",
        "  pass\n",
        "\n",
        "Bilingual().greet()\n"
      ],
      "metadata": {
        "id": "rT3nIq6oxHNr",
        "colab": {
          "base_uri": "https://localhost:8080/"
        },
        "outputId": "f46f3a38-7506-45b1-cdfd-4aa7d961bc49"
      },
      "execution_count": 9,
      "outputs": [
        {
          "output_type": "stream",
          "name": "stdout",
          "text": [
            "Oi\n",
            "Hi\n"
          ]
        }
      ]
    },
    {
      "cell_type": "code",
      "source": [
        "class Animal():\n",
        "    def __init__(self, nome, cor):\n",
        "        self.__nome = nome\n",
        "        self.__cor = cor\n",
        "\n",
        "    def comer(self):\n",
        "        print(f\"O {self.__nome} está comendo\")\n",
        "\n",
        "class Cachorro(Animal):\n",
        "    def __init__(self, nome, cor):\n",
        "        super().__init__(nome, cor)\n",
        "\n",
        "\n",
        "class Cachorro(Animal):\n",
        "    def __init__(self, nome, cor, num_patas):\n",
        "        super().__init__(nome, cor)\n",
        "\n",
        "class Coelho(Animal):\n",
        "    def __init__(self, nome, cor):\n",
        "        super().__init__(nome, cor)\n",
        "\n",
        "c1 = Cachorro(\"bela\", \"preta\", 4)\n",
        "c1.comer()"
      ],
      "metadata": {
        "colab": {
          "base_uri": "https://localhost:8080/"
        },
        "id": "BGbnR0bX09On",
        "outputId": "1a645469-e3af-4502-d44d-bbd509292033"
      },
      "execution_count": 18,
      "outputs": [
        {
          "output_type": "stream",
          "name": "stdout",
          "text": [
            "O bela está comendo\n",
            "O {'nome': 'vitor', 'cor': 'laranja'} está comendo\n"
          ]
        }
      ]
    }
  ]
}