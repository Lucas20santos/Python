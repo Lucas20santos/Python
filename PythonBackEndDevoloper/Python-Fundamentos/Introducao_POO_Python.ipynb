{
  "nbformat": 4,
  "nbformat_minor": 0,
  "metadata": {
    "colab": {
      "provenance": [],
      "authorship_tag": "ABX9TyN+2MB3GMip6KwWDIBbWApb",
      "include_colab_link": true
    },
    "kernelspec": {
      "name": "python3",
      "display_name": "Python 3"
    },
    "language_info": {
      "name": "python"
    }
  },
  "cells": [
    {
      "cell_type": "markdown",
      "metadata": {
        "id": "view-in-github",
        "colab_type": "text"
      },
      "source": [
        "<a href=\"https://colab.research.google.com/github/Lucas20santos/Python/blob/master/Introducao_POO_Python.ipynb\" target=\"_parent\"><img src=\"https://colab.research.google.com/assets/colab-badge.svg\" alt=\"Open In Colab\"/></a>"
      ]
    },
    {
      "cell_type": "markdown",
      "source": [
        "# Progromação orientada a Objetos (POO)\n",
        "\n",
        "## Paradigmas de Programação\n",
        "\n",
        "Um paradigma de programação é um estilo e programação. Não é uma linguagem (Python, Java, C, etc), e sim a forma como você soluciona os problemas através do código.\n",
        "\n",
        "### Exemplo\n",
        "\n",
        "**Problema**: Beber água\n",
        "\n",
        "**Solução 1**: Usar um copo para beber água\n",
        "\n",
        "**Solução 2**: Usar uma garrafa para beber água.\n",
        "\n",
        "## Alguns paradigmas\n",
        "\n",
        "- Imperativo ou procedural\n",
        "- Funcional\n",
        "- Orientado a eventos\n",
        "\n",
        "## Programação orientada a objetos\n",
        "\n",
        "O paradigma de progrmação orientada a objetos estrutura o código abstraindo problemas em objetos do mundo real, facilitando o entendimento do código e tornando-o mais modular e extensível. Os dois conceitos chaves para aprender POO são **classes e objetos**.\n",
        "\n",
        "## Classes e objetos\n",
        "\n",
        "### Conceitos de classes e objetos\n",
        "\n",
        "#### Classes e objetos ?\n",
        "\n",
        "Uma classe define as características e comportamentos de um objeto, porém não conseguimos usá-las diretamente. Já os objetos podemos usá-los e eles possuem as características e comportamentos que foram definidos nas classes.\n",
        "\n",
        "\n"
      ],
      "metadata": {
        "id": "Ps4GNE0d4nPB"
      }
    },
    {
      "cell_type": "code",
      "execution_count": 7,
      "metadata": {
        "colab": {
          "base_uri": "https://localhost:8080/"
        },
        "id": "CsRFw2dBBNb-",
        "outputId": "74d3b131-1c98-4e0d-95b6-0741d1822051"
      },
      "outputs": [
        {
          "output_type": "stream",
          "name": "stdout",
          "text": [
            "Auau\n",
            "True\n",
            "Zzzzz...\n",
            "False\n"
          ]
        }
      ],
      "source": [
        "# Classe\n",
        "class Cachorro:\n",
        "  def __init__(self, nome, cor, acordado=True) -> None:\n",
        "    self.nome = nome\n",
        "    self.cor = cor\n",
        "    self.acordado = acordado\n",
        "\n",
        "  def latir(self):\n",
        "    print(\"Auau\")\n",
        "\n",
        "  def dormir(self):\n",
        "    self.acordado = False\n",
        "    print(\"Zzzzz...\")\n",
        "\n",
        "\n",
        "# Objeto ou instancias da classe Carrocho.\n",
        "cao_1 = Cachorro(\"chappie\", \"amarelo\", False)\n",
        "cao_2 = Cachorro(\"Aladin\", \"branco e preto\")\n",
        "\n",
        "cao_1.latir()\n",
        "\n",
        "print(cao_2.acordado)\n",
        "cao_2.dormir()\n",
        "print(cao_2.acordado)\n"
      ]
    },
    {
      "cell_type": "markdown",
      "source": [
        "## Nosso primeiro programa POO\n",
        "\n",
        "João tem uma bicicleta e gostaria de registrar as vendas de suas bicicletas. Crie um programa onde João informe: cor, modelo, ano e valor da bicicleta vendida. Uma bicicleta pode: buzinar, parar e correr. Adicione esses comportamentos!"
      ],
      "metadata": {
        "id": "bHx1s4pvNRzF"
      }
    },
    {
      "cell_type": "code",
      "source": [
        "class Bicicleta(object):\n",
        "  def __init__(self, cor: str, modelo: str, ano: int, valor: float) -> None:\n",
        "    self.cor: str = cor\n",
        "    self.modelo: str = modelo\n",
        "    self.ano: str = ano\n",
        "    self.valor: float = valor\n",
        "    self.buzinando = False\n",
        "    self.parado = True\n",
        "    self.correndo = False\n",
        "\n",
        "  def getCor(self) -> str:\n",
        "    return self.cor\n",
        "\n",
        "  def setCor(self, cor) -> None:\n",
        "    self.cor = cor\n",
        "\n",
        "  def getModelo(self) -> str:\n",
        "    return self.modelo\n",
        "\n",
        "  def setModelo(self, modelo) -> None:\n",
        "    self.modelo = modelo\n",
        "\n",
        "  def getBuzinar(self):\n",
        "    return self.buzinando\n",
        "\n",
        "  def setBuzinar(self, buzinar):\n",
        "    self.buzinando = buzinar\n",
        "\n",
        "  def getParado(self) -> bool:\n",
        "    return self.parado\n",
        "\n",
        "  def setParado(self, parado) -> None:\n",
        "    self.parado = parado\n",
        "\n",
        "  def getCorrendo(self) -> bool:\n",
        "    return self.correndo\n",
        "\n",
        "  def setCorrendo(self, correndo) -> None:\n",
        "    self.correndo = correndo\n",
        "\n",
        "  # def __str__(self) -> None:\n",
        "  #   return f\"Cor: {self.cor}\\nModelo: {self.modelo}\\nAno: {self.ano}\\nValor: {self.valor}\\nBuzinando: {self.buzinando}\\nParada: {self.parado}\\nCorrendo: {self.correndo}\"\n",
        "\n",
        "  def __str__(self) -> str:\n",
        "    return f\"{self.__class__.__name__}: {', '.join([f'{chave} = {valor}' for chave, valor in self.__dict__.items()])}\"\n",
        "\n",
        "bc1 = Bicicleta(\"Azul\", \"Carga\", 2016, 1000)\n",
        "print(bc1)"
      ],
      "metadata": {
        "colab": {
          "base_uri": "https://localhost:8080/"
        },
        "id": "UZ4l1NaXNPjE",
        "outputId": "e929e337-2868-4d4e-b24e-667fcfe6092c"
      },
      "execution_count": 35,
      "outputs": [
        {
          "output_type": "stream",
          "name": "stdout",
          "text": [
            "Bicicleta: cor = Azul, modelo = Carga, ano = 2016, valor = 1000, buzinando = False, parado = True, correndo = False\n"
          ]
        }
      ]
    },
    {
      "cell_type": "markdown",
      "source": [
        "## Construtores e destrutores\n",
        "\n",
        "### Método construtor\n",
        "\n",
        "O método construtor sempre é executado quando uma nova instância da classe é criada. Nesse método inicializamos o estado do nosso objeto. Para declarar o método inicializamos o estado do nosso objeto. Para declarar o método construtor da classe, criamos um método com o nome **\\_\\_init\\_\\_**.\n",
        "\n",
        "\n"
      ],
      "metadata": {
        "id": "mbBU3BSnVe12"
      }
    },
    {
      "cell_type": "code",
      "source": [
        "class Cachorro:\n",
        "  print(\"Inicio\")\n",
        "  def __init__(self) -> None:\n",
        "    print(\"Construindo a instancia\")\n",
        "\n",
        "  def status(self):\n",
        "    print(\"Status\")\n",
        "\n",
        "  def __str__(self) -> str:\n",
        "    return f\"{self.__class__.__name__}: {', '.join([f'{chave} = {valor}' for chave, valor in self.__dict__.items()])}\"\n",
        "\n",
        "c1 = Cachorro()\n",
        "c1.status()\n",
        "print(c1)\n",
        ""
      ],
      "metadata": {
        "colab": {
          "base_uri": "https://localhost:8080/"
        },
        "id": "ej_awkJJbaTy",
        "outputId": "d39875a3-0af0-4457-aa9c-bf2646a23259"
      },
      "execution_count": 46,
      "outputs": [
        {
          "output_type": "stream",
          "name": "stdout",
          "text": [
            "Inicio\n",
            "Construindo a instancia\n",
            "Status\n",
            "Cachorro: \n"
          ]
        }
      ]
    },
    {
      "cell_type": "markdown",
      "source": [
        "### Método destrutor\n",
        "\n",
        "O método destrutor sempre é executado quando uma instância(objeto) é destruída. Destrutores em Python não são tão necessários quando em C++ porque o Python tem um coletor de lixo que lida com o gerenciamento de memória automaticamente. Para declarar o método destrutor da classe, criamos um método com o nome **\\_\\_del\\_\\_**."
      ],
      "metadata": {
        "id": "yf3_FsLGbs8X"
      }
    },
    {
      "cell_type": "code",
      "source": [
        "class Cachorro:\n",
        "  print(\"Inicio\")\n",
        "  def __init__(self) -> None:\n",
        "    print(\"Construindo a instancia\")\n",
        "\n",
        "  def __del__(self):\n",
        "    print(\"Destruindo a instancia\")\n",
        "\n",
        "  def status(self):\n",
        "    print(\"Status\")\n",
        "\n",
        "\n",
        "c1 = Cachorro()\n",
        "c1.status()\n",
        "del c1"
      ],
      "metadata": {
        "colab": {
          "base_uri": "https://localhost:8080/"
        },
        "id": "mk7qsyaycqy6",
        "outputId": "aa523f1e-6eea-4cc7-af56-429b09569935"
      },
      "execution_count": 44,
      "outputs": [
        {
          "output_type": "stream",
          "name": "stdout",
          "text": [
            "Inicio\n",
            "Construindo a instancia\n",
            "Status\n",
            "Destruindo a instancia\n"
          ]
        }
      ]
    }
  ]
}