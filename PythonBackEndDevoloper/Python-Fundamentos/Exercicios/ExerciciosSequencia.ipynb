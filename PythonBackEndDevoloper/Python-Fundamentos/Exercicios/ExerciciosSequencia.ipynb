{
 "cells": [
  {
   "cell_type": "markdown",
   "metadata": {},
   "source": [
    "# Soluções de Exercícios em Python e Boas Práticas"
   ]
  },
  {
   "cell_type": "markdown",
   "metadata": {},
   "source": [
    "##### 1. Faça um Programa que mostre a mensagem \"Alo mundo\" na tela."
   ]
  },
  {
   "cell_type": "code",
   "execution_count": 1,
   "metadata": {},
   "outputs": [
    {
     "name": "stdout",
     "output_type": "stream",
     "text": [
      "Hello, World!\n"
     ]
    }
   ],
   "source": [
    "print(\"Hello, World!\")"
   ]
  },
  {
   "cell_type": "markdown",
   "metadata": {},
   "source": [
    "##### 2. Faça um Programa que peça um número e então mostre a mensagem O número informado foi [número]."
   ]
  },
  {
   "cell_type": "code",
   "execution_count": 5,
   "metadata": {},
   "outputs": [
    {
     "name": "stdout",
     "output_type": "stream",
     "text": [
      "O número informado foi: 3.0\n",
      "O número informado foi: 4.0\n"
     ]
    }
   ],
   "source": [
    "# Primeira maneira: \n",
    "numero_informado: float = float(input(\"Informe um número: \"))\n",
    "print(f\"O número informado foi: {numero_informado}\")\n",
    "\n",
    "# Segunda maneira\n",
    "print(f\"O número informado foi: {float(input(\"Informe um número: \"))}\")\n"
   ]
  },
  {
   "cell_type": "markdown",
   "metadata": {},
   "source": [
    "##### 3. Faça um Programa que peça dois números e imprima a soma."
   ]
  },
  {
   "cell_type": "code",
   "execution_count": 4,
   "metadata": {},
   "outputs": [
    {
     "name": "stdout",
     "output_type": "stream",
     "text": [
      "5\n",
      "5\n"
     ]
    }
   ],
   "source": [
    "# Primeira maneira\n",
    "numero1: int = int(input(\"Informe o primeiro número: \"))\n",
    "numero2: int = int(input(\"Informe o segundo núemro: \"))\n",
    "\n",
    "print(numero1 + numero2)\n",
    "\n",
    "# Segunda maneira\n",
    "soma_dos_numeros_informados = numero1 + numero2\n",
    "print(soma_dos_numeros_informados)\n"
   ]
  },
  {
   "cell_type": "code",
   "execution_count": 3,
   "metadata": {},
   "outputs": [
    {
     "name": "stdout",
     "output_type": "stream",
     "text": [
      "Terceira maneira: \n",
      "4\n",
      "Quarta menira: \n",
      "A soma dois número é: 9\n"
     ]
    }
   ],
   "source": [
    "# Terceira maneira\n",
    "\n",
    "print(\"Terceira maneira: \")\n",
    "print(int(input(\"Informe o primeiro número: \")) + int(input(\"Informe o segu\")))\n",
    "\n",
    "# Quarta maneira\n",
    "print(\"Quarta menira: \")\n",
    "print(f\"A soma dois número é: {int(input(\"Informe o primeiro número: \")) + int(input(\"Informe o segu\"))}\")\n"
   ]
  },
  {
   "cell_type": "markdown",
   "metadata": {},
   "source": [
    "##### 4. Faça um Programa que peça as 4 notas bimestrais e mostre a média."
   ]
  },
  {
   "cell_type": "code",
   "execution_count": null,
   "metadata": {},
   "outputs": [
    {
     "name": "stdout",
     "output_type": "stream",
     "text": [
      "Informe suas notas bimestrais: \n",
      "Calculando sua média: \n",
      "A média das 4 notas é: 6.500\n"
     ]
    }
   ],
   "source": [
    "print(\"Informe suas notas bimestrais: \")\n",
    "\n",
    "nota1: float = float(input(\"Informe sua primeira nota: \"))\n",
    "nota2: float = float(input(\"Informe sua segunda nota: \"))\n",
    "nota3: float = float(input(\"Informe sua terceira nota: \"))\n",
    "nota4: float = float(input(\"Informe sua quarta nota: \"))\n",
    "\n",
    "print(\"Calculando sua média: \")\n",
    "media_das_quatro_notas_informada = (nota1 + nota2 + nota3 + nota4) / 4\n",
    "\n",
    "print(f\"A média das 4 notas é: {media_das_quatro_notas_informada:.3f}\")"
   ]
  },
  {
   "cell_type": "markdown",
   "metadata": {},
   "source": [
    "##### 5. Faça um Programa que converta metros para centímetros."
   ]
  },
  {
   "cell_type": "code",
   "execution_count": null,
   "metadata": {},
   "outputs": [
    {
     "name": "stdout",
     "output_type": "stream",
     "text": [
      "550.00cm = 5.50 \n"
     ]
    }
   ],
   "source": [
    "medida_centimetro = float(input(\"Informe o comprimeiro em centimetro: \"))\n",
    "constante_conversao = 100\n",
    "print(f\"Em {medida_centimetro:.2f} cm temos {(medida_centimetro / constante_conversao):.2f} m \")"
   ]
  },
  {
   "cell_type": "markdown",
   "metadata": {},
   "source": [
    "##### 6. Faça um Programa que peça o raio de um círculo, calcule e mostre sua área."
   ]
  },
  {
   "cell_type": "code",
   "execution_count": null,
   "metadata": {},
   "outputs": [
    {
     "name": "stdout",
     "output_type": "stream",
     "text": [
      "A circuferência de raio 4.0 tem área 50.390 \n"
     ]
    }
   ],
   "source": [
    "raio_circuferencia: float = float(input(\"Digite o raio da circuferência: \"))\n",
    "PI = 3.14935\n",
    "\n",
    "print(f\"A circuferência de raio {raio_circuferencia} tem área {(PI * raio_circuferencia ** 2):.3f} \")"
   ]
  },
  {
   "cell_type": "markdown",
   "metadata": {},
   "source": [
    "##### 7. Faça um Programa que calcule a área de um quadrado, em seguida mostre o dobro desta área para o usuário."
   ]
  },
  {
   "cell_type": "code",
   "execution_count": null,
   "metadata": {},
   "outputs": [
    {
     "name": "stdout",
     "output_type": "stream",
     "text": [
      "O área do quadrado de lado 5.0 é 25.0\n",
      "O dobro da área de quadrado de dimensão 25.0 é 50.0\n"
     ]
    }
   ],
   "source": [
    "lado_quadrado: float = float(input(\"Informe o lado do quadrado: \"))\n",
    "\n",
    "calculo_area_quadrado:float = lado_quadrado ** 2\n",
    "\n",
    "print(f\"O área do quadrado de lado {lado_quadrado} é {calculo_area_quadrado}\")\n",
    "print(f\"O dobro da área de quadrado de dimensão {calculo_area_quadrado} é {2 * calculo_area_quadrado}\")\n"
   ]
  },
  {
   "cell_type": "markdown",
   "metadata": {},
   "source": [
    "##### 8. Faça um Programa que pergunte quanto você ganha por hora e o número de horas trabalhadas no mês. Calcule e mostre o total do seu salário no referido mês.\n"
   ]
  },
  {
   "cell_type": "code",
   "execution_count": null,
   "metadata": {},
   "outputs": [
    {
     "name": "stdout",
     "output_type": "stream",
     "text": [
      "O seu salario no respectivo mês é de 10000.00\n"
     ]
    }
   ],
   "source": [
    "# Primeira maneira de fazer\n",
    "\n",
    "valor_hora_trabalho: float = float(input(\"Informe o valor da sua hora de trabalho: \"))\n",
    "quantidade_horas_trabalhada_mes: float = float(input(\"Agora informe a quantidade de horas trabalhada no mês: \"))\n",
    "\n",
    "calculoDoSalarioNoMes = valor_hora_trabalho * quantidade_horas_trabalhada_mes\n",
    "\n",
    "print(f\"O seu salario no respectivo mês é de {calculoDoSalarioNoMes:.2f}\")\n"
   ]
  },
  {
   "cell_type": "code",
   "execution_count": 11,
   "metadata": {},
   "outputs": [
    {
     "name": "stdout",
     "output_type": "stream",
     "text": [
      "O seu salario no mês é de       1000.0\n"
     ]
    }
   ],
   "source": [
    "## Segunda maneira\n",
    "\n",
    "print(f\"O seu salario no mês é de \\\n",
    "      {float(input(\"Preço da Hora de trabalho: \")) * \\\n",
    "float(input(\"Horas Trabalhada: \"))}\")\n",
    "\n"
   ]
  },
  {
   "cell_type": "markdown",
   "metadata": {},
   "source": [
    "##### 9. Faça um Programa que peça a temperatura em graus Fahrenheit, transforme e mostre a temperatura em graus Celsius. C = 5 * ((F-32) / 9).\n"
   ]
  },
  {
   "cell_type": "code",
   "execution_count": null,
   "metadata": {},
   "outputs": [
    {
     "name": "stdout",
     "output_type": "stream",
     "text": [
      "Essa temperatura corresponde a uma temperatura de -40.00 °C\n"
     ]
    }
   ],
   "source": [
    "temperatura_fahrenheit: float = float(input(\"Informe a temperatura em graus Fahrenheit: \"))\n",
    "\n",
    "print(f\"Essa temperatura corresponde a uma temperatura de {(5 * (temperatura_fahrenheit - 32) / 9):.2f} °C\")\n"
   ]
  },
  {
   "cell_type": "markdown",
   "metadata": {},
   "source": [
    "##### 10. Faça um Programa que peça a temperatura em graus Celsius, transforme e mostre em graus Fahrenheit.\n"
   ]
  },
  {
   "cell_type": "code",
   "execution_count": null,
   "metadata": {},
   "outputs": [
    {
     "name": "stdout",
     "output_type": "stream",
     "text": [
      "Essa temperatura corresponde a uma temperatura de 32.00 °F\n"
     ]
    }
   ],
   "source": [
    "temperatura_celsius: float = float(input(\"Informe a temperatura em graus Celsius: \"))\n",
    "\n",
    "print(f\"Essa temperatura corresponde a uma temperatura de {((9 * temperatura_celsius / 5) + 32):.2f} °F\")"
   ]
  },
  {
   "cell_type": "markdown",
   "metadata": {},
   "source": [
    "##### 11. Faça um Programa que peça 2 números inteiros e um número real. Calcule e mostre:"
   ]
  },
  {
   "cell_type": "code",
   "execution_count": null,
   "metadata": {},
   "outputs": [
    {
     "name": "stdout",
     "output_type": "stream",
     "text": [
      "Primeiro número informado: 2.\n",
      "Segundo núemro informado: 4.\n"
     ]
    }
   ],
   "source": [
    "primeiro_numero_inteiro: int = int(input(\"Informe o primeiro número inteiro: \"))\n",
    "segundo_numero_inteiro: int = int(input(\"Informe o segundo número inteiro: \"))\n",
    "\n",
    "print(f\"Primeiro número informado: {primeiro_numero_inteiro}.\")\n",
    "print(f\"Segundo núemro informado: {segundo_numero_inteiro}.\")"
   ]
  },
  {
   "cell_type": "markdown",
   "metadata": {},
   "source": [
    "##### a. o produto do dobro do primeiro com metade do segundo .\n"
   ]
  },
  {
   "cell_type": "code",
   "execution_count": null,
   "metadata": {},
   "outputs": [
    {
     "name": "stdout",
     "output_type": "stream",
     "text": [
      "8.0\n"
     ]
    }
   ],
   "source": [
    "print(f\"{(2 * primeiro_numero_inteiro) * (segundo_numero_inteiro / 2)}\")"
   ]
  },
  {
   "cell_type": "markdown",
   "metadata": {},
   "source": [
    "##### b. a soma do triplo do primeiro com o terceiro."
   ]
  },
  {
   "cell_type": "code",
   "execution_count": null,
   "metadata": {},
   "outputs": [
    {
     "name": "stdout",
     "output_type": "stream",
     "text": [
      "O terceiro número informado: 3.0\n"
     ]
    }
   ],
   "source": [
    "terceiro_numero_real: float = float(input(\"Informe o número decimal: \"))\n",
    "\n",
    "print(f\"O terceiro número informado: {terceiro_numero_real}\")"
   ]
  },
  {
   "cell_type": "code",
   "execution_count": null,
   "metadata": {},
   "outputs": [
    {
     "name": "stdout",
     "output_type": "stream",
     "text": [
      "8.0\n"
     ]
    }
   ],
   "source": [
    "print(f\"{3 * primeiro_numero_inteiro + terceiro_numero_real}\")"
   ]
  },
  {
   "cell_type": "markdown",
   "metadata": {},
   "source": [
    "##### c. o terceiro elevado ao cubo."
   ]
  },
  {
   "cell_type": "code",
   "execution_count": null,
   "metadata": {},
   "outputs": [
    {
     "name": "stdout",
     "output_type": "stream",
     "text": [
      "27.0\n"
     ]
    }
   ],
   "source": [
    "print(f\"{terceiro_numero_real ** 3}\")"
   ]
  },
  {
   "cell_type": "markdown",
   "metadata": {},
   "source": [
    "##### 12. Tendo como dados de entrada a altura de uma pessoa, construa um algoritmo que calcule seu peso ideal, usando a seguinte fórmula: (72.7*altura) - 58"
   ]
  },
  {
   "cell_type": "code",
   "execution_count": 4,
   "metadata": {},
   "outputs": [
    {
     "name": "stdout",
     "output_type": "stream",
     "text": [
      "A sua altura ideal é: 61.129999999999995\n"
     ]
    }
   ],
   "source": [
    "altura: float = float(input(\"Informe sua altura: \"))\n",
    "\n",
    "print(f\"A sua altura ideal é: {72.2 * altura - 58}\")"
   ]
  },
  {
   "cell_type": "markdown",
   "metadata": {},
   "source": [
    "##### 13. Tendo como dado de entrada a altura (h) de uma pessoa, construa um algoritmo que calcule seu peso ideal, utilizando as seguintes fórmulas:\n",
    "##### a. Para homens: (72.7*h) - 58\n",
    "##### b. Para mulheres: (62.1*h) - 44.7"
   ]
  },
  {
   "cell_type": "code",
   "execution_count": null,
   "metadata": {},
   "outputs": [
    {
     "name": "stdout",
     "output_type": "stream",
     "text": [
      "True\n"
     ]
    }
   ],
   "source": [
    "# Primeira maneira de fazer\n",
    "e_homem: bool = bool(True if input(\"Informe seu sexo\\nM - Masculino\\nF - Feminino \")[0].upper().strip() == 'M' else False)\n",
    "altura: float = float(input(\"Agora informe sua altura: \"))\n",
    "\n",
    "\n",
    "pesoIdeal = (72.2 * altura) - 58 if e_homem else (62.1 * altura) - 44.7\n",
    "\n"
   ]
  },
  {
   "cell_type": "code",
   "execution_count": 11,
   "metadata": {},
   "outputs": [
    {
     "name": "stdout",
     "output_type": "stream",
     "text": [
      "O seu peso ideal é: 61.13\n"
     ]
    }
   ],
   "source": [
    "# Segunda maneira de fazer\n",
    "altura = float(input(\"Informe sua altura: \"))\n",
    "\n",
    "print(f\"O seu peso ideal é: {((72.2 * altura) - 58 if (True if input(\"Informe seu sexo\\nM - Masculino\\nF - Feminino \")[0].upper().strip() == 'M' else False) \\\n",
    "else (62.1 * altura) - 44.7):.2f}\")"
   ]
  },
  {
   "cell_type": "markdown",
   "metadata": {},
   "source": [
    "##### 14. João Papo-de-Pescador, homem de bem, comprou um microcomputador para controlar o rendimento diário de seu trabalho. Toda vez que ele traz um peso de peixes maior que o estabelecido pelo regulamento de pesca do estado de São Paulo (50 quilos) deve pagar uma multa de R$ 4,00 por quilo excedente. João precisa que você faça um programa que leia a variável peso (peso de peixes) e calcule o excesso. Gravar na variável excesso a quantidade de quilos além do limite e na variável multa o valor da multa que João deverá pagar. Imprima os dados do programa com as mensagens adequadas."
   ]
  },
  {
   "cell_type": "code",
   "execution_count": null,
   "metadata": {},
   "outputs": [
    {
     "name": "stdout",
     "output_type": "stream",
     "text": [
      "Peso dos peixe:49.0, houve excesso:False\n",
      "O valor da multa é: 0\n"
     ]
    }
   ],
   "source": [
    "# Primeira maneira de fazer\n",
    "peso_peixe: float = float(input(\"Informe o peso dos peixes: \"))\n",
    "peso_excesso: float = 50 - peso_peixe\n",
    "\n",
    "if peso_excesso > 0:\n",
    "    multa = 0\n",
    "    print(f\"Peso dos peixe:{peso_peixe}, houve excesso: {True if peso_excesso < 0 else False}\\nO valor da multa é: {multa}\")\n",
    "else:\n",
    "    multa = -(peso_excesso) * 4\n",
    "    print(f\"Peso dos peixe:{peso_peixe}, houve excesso: {True if peso_excesso < 0 else False}\\nO valor da multa é: {multa}\")\n"
   ]
  },
  {
   "cell_type": "markdown",
   "metadata": {},
   "source": [
    "#### 15. Faça um Programa que pergunte quanto você ganha por hora e o número de horas trabalhadas no mês. Calcule e mostre o total do seu salário no referido mês, sabendo-se que são descontados 11% para o Imposto de Renda, 8% para o INSS e 5% para o sindicato, faça um programa que nos dê:\n",
    "\n",
    "##### a. salário bruto.\n",
    "##### b. quanto pagou ao INSS.\n",
    "##### c. quanto pagou ao sindicato.\n",
    "##### d. o salário líquido.\n",
    "##### e. calcule os descontos e o salário líquido, conforme a tabela abaixo:\n",
    "##### + Salário Bruto : R$\n",
    "##### - IR (11%) : R$\n",
    "##### - INSS (8%) : R$\n",
    "##### - Sindicato ( 5%) : R$\n",
    "##### = Salário Liquido : R$"
   ]
  },
  {
   "cell_type": "code",
   "execution_count": null,
   "metadata": {},
   "outputs": [
    {
     "name": "stdout",
     "output_type": "stream",
     "text": [
      "O seu salario bruto, sem desconto de imposto é: 1500.0\n",
      "+ Salário Bruto: R$ 1500.0\n",
      "- IR (11%): R$ 165.0\n",
      "- INSS (8%): R$ 120.0\n",
      "- Sindicato (5%): R$ 75.0\n",
      "= Salário Liquido: R$ 1140.0\n"
     ]
    }
   ],
   "source": [
    "# TODO Fazer um programa que pergunte o valor do salario por hora e o tempo em horas trabalhada por mês:\n",
    "valor_salario_por_hora = float(input(\"Informe o valor do seu salario por hora: \"))\n",
    "tempo_trabalhado_por_mes = float(input(\"Agora informe o tempo trabalho no mês: \"))\n",
    "\n",
    "\n",
    "#TODO Calcule e mostre o total do seu salário no referido mês\n",
    "calculo_salario_mes = valor_salario_por_hora * tempo_trabalhado_por_mes\n",
    "print(f\"O seu salario bruto, sem desconto de imposto é: {calculo_salario_mes}\")\n",
    "#TODO Descontar 11% para o Imposto de Renda\n",
    "imposto_renda = 0.11 * calculo_salario_mes\n",
    "#TODO Descontar 8% para o INSS\n",
    "imposto_INSS = 0.08 * calculo_salario_mes\n",
    "#TODO Descontar 5% para o sindicato\n",
    "imposto_sindicato = 0.05 * calculo_salario_mes\n",
    "#TODO imprimir na tela o salario bruto\n",
    "salario_bruto = calculo_salario_mes\n",
    "#TODO salario Liquido\n",
    "#TODO imprimir na tela e mostre como na tabela abaixo\n",
    "##### + Salário Bruto : R$\n",
    "##### - IR (11%) : R$\n",
    "##### - INSS (8%) : R$\n",
    "##### - Sindicato ( 5%) : R$\n",
    "##### = Salário Liquido : R$\n",
    "salario_liquido = salario_bruto - imposto_renda - imposto_INSS - imposto_sindicato\n",
    "print(f\"\"\"+ Salário Bruto: R$ {salario_bruto}\n",
    "- IR (11%): R$ {imposto_renda}\n",
    "- INSS (8%): R$ {imposto_INSS}\n",
    "- Sindicato (5%): R$ {imposto_sindicato}\n",
    "= Salário Liquido: R$ {salario_liquido}\"\"\")\n"
   ]
  },
  {
   "cell_type": "markdown",
   "metadata": {},
   "source": [
    "#### 16. Faça um programa para uma loja de tintas. O programa deverá pedir o tamanho em metros quadrados da área a ser pintada. Considere que a cobertura da tinta é de 1 litro para cada 3 metros quadrados e que a tinta é vendida em latas de 18 litros, que custam R$ 80,00. Informe ao usuário a quantidades de latas de tinta a serem compradas e o preço total."
   ]
  },
  {
   "cell_type": "code",
   "execution_count": null,
   "metadata": {},
   "outputs": [
    {
     "name": "stdout",
     "output_type": "stream",
     "text": [
      "Total de Latas Gastas: 4\n",
      "Preço gasto: 320\n"
     ]
    }
   ],
   "source": [
    "import math\n",
    "\n",
    "#TODO: fazer um programa para uma loja de tintas.\n",
    "#TODO: pedir o área em metros do local a ser pintado\n",
    "area_local_ser_pintado = float(input(\"Informe a área do local que será pintada: \"))\n",
    "# 1L para cada 3 metros quadrados e que a tinta é vendida em latas de 18 litros.\n",
    "#TODO: converter metros quadrado para litros.\n",
    "constante_de_conversao = 1/3\n",
    "# custo da lata de 18 litros é de R$ 80,00\n",
    "#TODO: informar ao usuário a quantidade de latas e o proço:\n",
    "quantidades_latas_consummidas = constante_de_conversao * area_local_ser_pintado\n",
    "# Métodos para arredondar valor no python\n",
    "# math.ceil() arredonda para cima\n",
    "# para arrendodar para duas cadas decimais o round(3.141592, 2) = 3.14\n",
    "quantidades_latas_consummidas = math.ceil(quantidades_latas_consummidas)\n",
    "preco_sera_pago = quantidades_latas_consummidas * 80\n",
    "print(f\"Total de Latas Gastas: {quantidades_latas_consummidas}\\n\\\n",
    "Preço gasto: {preco_sera_pago}\")\n"
   ]
  },
  {
   "cell_type": "markdown",
   "metadata": {},
   "source": [
    "##### 17. Faça um Programa para uma loja de tintas. O programa deverá pedir o tamanho em metros quadrados da área a ser pintada. Considere que a cobertura da tinta é de 1 litro para cada 6 metros quadrados e que a tinta é vendida em latas de 18 litros, que custam R$ 80,00 ou em galões de 3,6 litros, que custam R$ 25,00. Informe ao usuário as quantidades de tinta a serem compradas e os respectivos preços em 3 situações:\n",
    "- comprar apenas latas de 18 litros;\n",
    "- comprar apenas galões de 3,6 litros;\n",
    "- misturar latas e galões, de forma que o desperdício de tinta seja menor. Acrescente 10% de folga e sempre arredonde os valores para cima, isto é, considere latas cheias."
   ]
  },
  {
   "cell_type": "code",
   "execution_count": null,
   "metadata": {},
   "outputs": [],
   "source": [
    "#TODO criar as constante do programa\n",
    "CONSTANTE_TINTA_6_LITROS = 1 / 6\n",
    "VOLUME_LITROS_18 = 18\n",
    "VOLUME_LITROS_3_6 = 3.6\n",
    "PRECOLATA_18_LITROS = 80\n",
    "PRECOLATA_3_6_LITROS = 25\n",
    "\n",
    "#TODO: fazer um programa para uma loja de tintas. O programa deverá pedir o tamanho em metros quadrados da área\n",
    "# a ser pintada.\n",
    "area_Pintada = float(input(\"Informe a área em metros quadrados de parede a ser pintada: \"))\n",
    "\n",
    "#TODO: Criar programa para informar usuario da quantidades de tinta a serem compradas e os respectivos preços\n",
    "#TODO: comprar apenas latas de 18 litros\n",
    "litros_tinta = CONSTANTE_TINTA_6_LITROS * area_Pintada\n",
    "\n",
    "litros_tinta = math.ceil(litros_tinta)\n",
    "\n",
    "preco_pago_80 = litros_tinta * PRECOLATA_18_LITROS\n",
    "print(f\"Total de Latas Gastas: {litros_tinta} Preço gasto: {preco_pago_80}\")\n",
    "# comprar apenas latas de 3,6 litros\n",
    "preco_pago_lata_36: float = litros_tinta * PRECOLATA_3_6_LITROS\n",
    "print(f\"Total de Latas Gastas: {litros_tinta} Preço gasto: {preco_pago_lata_36}\")\n",
    "# mistura latas e galões\n",
    "\n",
    "\n"
   ]
  },
  {
   "cell_type": "markdown",
   "metadata": {},
   "source": [
    "##### 18. Faça um programa que peça o tamanho de um arquivo para download (em MB) e a velocidade de um link de Internet (em Mbps), calcule e informe o tempo aproximado de download do arquivo usando este link (em minutos).\n"
   ]
  },
  {
   "cell_type": "code",
   "execution_count": null,
   "metadata": {},
   "outputs": [
    {
     "name": "stdout",
     "output_type": "stream",
     "text": [
      "A sua velocidade de download: 20.0\n",
      "O tempo para baixar um arquivo de 400.0 é 160.0\n"
     ]
    }
   ],
   "source": [
    "tamanho_arquivo: float = float(input(\"Informe o tamanho do arquivo em MB - [Mega Bytes]\"))\n",
    "velocidade_download: float = float(input(\"Informe a velocidade da sua internet em Mbps: [Mega bit por segundo]\"))\n",
    "\n",
    "tempo_download: float = (8 * tamanho_arquivo) / velocidade_download\n",
    "\n",
    "print(f\"A sua velocidade de download: {velocidade_download} Mbps\")\n",
    "print(f\"O tempo para baixar um arquivo de {tamanho_arquivo} é {tempo_download}\")\n"
   ]
  }
 ],
 "metadata": {
  "kernelspec": {
   "display_name": "Python 3",
   "language": "python",
   "name": "python3"
  },
  "language_info": {
   "codemirror_mode": {
    "name": "ipython",
    "version": 3
   },
   "file_extension": ".py",
   "mimetype": "text/x-python",
   "name": "python",
   "nbconvert_exporter": "python",
   "pygments_lexer": "ipython3",
   "version": "3.12.1"
  }
 },
 "nbformat": 4,
 "nbformat_minor": 2
}
