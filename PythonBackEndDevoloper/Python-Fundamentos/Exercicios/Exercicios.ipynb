{
 "cells": [
  {
   "cell_type": "markdown",
   "metadata": {},
   "source": [
    "# Soluções de Exercícios em Python e Boas Práticas"
   ]
  },
  {
   "cell_type": "markdown",
   "metadata": {},
   "source": [
    "##### 1. Faça um Programa que mostre a mensagem \"Alo mundo\" na tela."
   ]
  },
  {
   "cell_type": "code",
   "execution_count": 1,
   "metadata": {},
   "outputs": [
    {
     "name": "stdout",
     "output_type": "stream",
     "text": [
      "Hello, World!\n"
     ]
    }
   ],
   "source": [
    "print(\"Hello, World!\")"
   ]
  },
  {
   "cell_type": "markdown",
   "metadata": {},
   "source": [
    "##### 2. Faça um Programa que peça um número e então mostre a mensagem O número informado foi [número]."
   ]
  },
  {
   "cell_type": "code",
   "execution_count": 5,
   "metadata": {},
   "outputs": [
    {
     "name": "stdout",
     "output_type": "stream",
     "text": [
      "O número informado foi: 3.0\n",
      "O número informado foi: 4.0\n"
     ]
    }
   ],
   "source": [
    "# Primeira maneira: \n",
    "numeroInformado: float = float(input(\"Informe um número: \"))\n",
    "print(f\"O número informado foi: {numeroInformado}\")\n",
    "\n",
    "# Segunda maneira\n",
    "print(f\"O número informado foi: {float(input(\"Informe um número: \"))}\")\n"
   ]
  },
  {
   "cell_type": "markdown",
   "metadata": {},
   "source": [
    "##### 3. Faça um Programa que peça dois números e imprima a soma."
   ]
  },
  {
   "cell_type": "code",
   "execution_count": 4,
   "metadata": {},
   "outputs": [
    {
     "name": "stdout",
     "output_type": "stream",
     "text": [
      "5\n",
      "5\n"
     ]
    }
   ],
   "source": [
    "# Primeira maneira\n",
    "numero1: int = int(input(\"Informe o primeiro número: \"))\n",
    "numero2: int = int(input(\"Informe o segundo núemro: \"))\n",
    "\n",
    "print(numero1 + numero2)\n",
    "\n",
    "# Segunda maneira\n",
    "somaDosDoisNumerosPedido = numero1 + numero2\n",
    "print(somaDosDoisNumerosPedido)\n"
   ]
  },
  {
   "cell_type": "code",
   "execution_count": null,
   "metadata": {},
   "outputs": [
    {
     "ename": "TypeError",
     "evalue": "'num1' is an invalid keyword argument for int()",
     "output_type": "error",
     "traceback": [
      "\u001b[0;31m---------------------------------------------------------------------------\u001b[0m",
      "\u001b[0;31mTypeError\u001b[0m                                 Traceback (most recent call last)",
      "Cell \u001b[0;32mIn[3], line 6\u001b[0m\n\u001b[1;32m      3\u001b[0m num1: \u001b[38;5;28mint\u001b[39m\n\u001b[1;32m      4\u001b[0m num2: \u001b[38;5;28mint\u001b[39m\n\u001b[0;32m----> 6\u001b[0m \u001b[38;5;28mprint\u001b[39m(\u001b[38;5;28;43mint\u001b[39;49m\u001b[43m(\u001b[49m\u001b[43mnum1\u001b[49m\u001b[43m \u001b[49m\u001b[38;5;241;43m=\u001b[39;49m\u001b[43m \u001b[49m\u001b[38;5;28;43minput\u001b[39;49m\u001b[43m(\u001b[49m\u001b[38;5;124;43m\"\u001b[39;49m\u001b[38;5;124;43mInforme o primeiro número: \u001b[39;49m\u001b[38;5;124;43m\"\u001b[39;49m\u001b[43m)\u001b[49m\u001b[43m)\u001b[49m, num2 \u001b[38;5;241m=\u001b[39m \u001b[38;5;28mint\u001b[39m(\u001b[38;5;28minput\u001b[39m(\u001b[38;5;124m\"\u001b[39m\u001b[38;5;124mInforme o segu\u001b[39m\u001b[38;5;124m\"\u001b[39m)))\n\u001b[1;32m      7\u001b[0m \u001b[38;5;28mprint\u001b[39m(num1 \u001b[38;5;241m+\u001b[39m num2)\n",
      "\u001b[0;31mTypeError\u001b[0m: 'num1' is an invalid keyword argument for int()"
     ]
    }
   ],
   "source": [
    "# Terceira maneira\n",
    "num1: int\n",
    "num2: int\n",
    "\n",
    "print(int(num1 = input(\"Informe o primeiro número: \")), num2 = int(input(\"Informe o segu\")))\n",
    "print(num1 + num2)\n"
   ]
  },
  {
   "cell_type": "markdown",
   "metadata": {},
   "source": [
    "##### 4. Faça um Programa que peça as 4 notas bimestrais e mostre a média."
   ]
  },
  {
   "cell_type": "code",
   "execution_count": null,
   "metadata": {},
   "outputs": [
    {
     "name": "stdout",
     "output_type": "stream",
     "text": [
      "Informe suas notas bimestrais: \n",
      "Calculando sua média: \n",
      "A média das 4 notas é: 6.500\n"
     ]
    }
   ],
   "source": [
    "print(\"Informe suas notas bimestrais: \")\n",
    "\n",
    "nota1: float = float(input(\"Informe sua primeira nota: \"))\n",
    "nota2: float = float(input(\"Informe sua segunda nota: \"))\n",
    "nota3: float = float(input(\"Informe sua terceira nota: \"))\n",
    "nota4: float = float(input(\"Informe sua quarta nota: \"))\n",
    "\n",
    "print(\"Calculando sua média: \")\n",
    "mediaDasQuatroNotasInformada = (nota1 + nota2 + nota3 + nota4) / 4\n",
    "\n",
    "print(f\"A média das 4 notas é: {mediaDasQuatroNotasInformada:.3f}\")"
   ]
  },
  {
   "cell_type": "markdown",
   "metadata": {},
   "source": [
    "##### 5. Faça um Programa que converta metros para centímetros."
   ]
  },
  {
   "cell_type": "code",
   "execution_count": null,
   "metadata": {},
   "outputs": [
    {
     "name": "stdout",
     "output_type": "stream",
     "text": [
      "550.00cm = 5.50 \n"
     ]
    }
   ],
   "source": [
    "medidaEmCentimetro = float(input(\"Informe o comprimeiro em centimetro: \"))\n",
    "constanteDeConversao = 100\n",
    "print(f\"Em {medidaEmCentimetro:.2f} cm temos {(medidaEmCentimetro / constanteDeConversao):.2f} m \")"
   ]
  },
  {
   "cell_type": "markdown",
   "metadata": {},
   "source": [
    "##### 6. Faça um Programa que peça o raio de um círculo, calcule e mostre sua área."
   ]
  },
  {
   "cell_type": "code",
   "execution_count": 3,
   "metadata": {},
   "outputs": [
    {
     "name": "stdout",
     "output_type": "stream",
     "text": [
      "A circuferência de raio 4.0 tem área 50.390 \n"
     ]
    }
   ],
   "source": [
    "raioCircuferencia: float = float(input(\"Digite o raio da circuferência: \"))\n",
    "PI = 3.14935\n",
    "\n",
    "print(f\"A circuferência de raio {raioCircuferencia} tem área {(PI * raioCircuferencia ** 2):.3f} \")"
   ]
  },
  {
   "cell_type": "markdown",
   "metadata": {},
   "source": [
    "##### 7. Faça um Programa que calcule a área de um quadrado, em seguida mostre o dobro desta área para o usuário."
   ]
  },
  {
   "cell_type": "code",
   "execution_count": 6,
   "metadata": {},
   "outputs": [
    {
     "name": "stdout",
     "output_type": "stream",
     "text": [
      "O área do quadrado de lado 5.0 é 25.0\n",
      "O dobro da área de quadrado de dimensão 25.0 é 50.0\n"
     ]
    }
   ],
   "source": [
    "ladoDoQuadrado: float = float(input(\"Informe o lado do quadrado: \"))\n",
    "\n",
    "calculoDaAreaDoQuadrado:float = ladoDoQuadrado ** 2\n",
    "\n",
    "print(f\"O área do quadrado de lado {ladoDoQuadrado} é {calculoDaAreaDoQuadrado}\")\n",
    "print(f\"O dobro da área de quadrado de dimensão {calculoDaAreaDoQuadrado} é {2 * calculoDaAreaDoQuadrado}\")\n"
   ]
  },
  {
   "cell_type": "markdown",
   "metadata": {},
   "source": [
    "##### 8. Faça um Programa que pergunte quanto você ganha por hora e o número de horas trabalhadas no mês. Calcule e mostre o total do seu salário no referido mês.\n"
   ]
  },
  {
   "cell_type": "code",
   "execution_count": 7,
   "metadata": {},
   "outputs": [
    {
     "name": "stdout",
     "output_type": "stream",
     "text": [
      "O seu salario no respectivo mês é de 10000.00\n"
     ]
    }
   ],
   "source": [
    "# Primeira maneira de fazer\n",
    "\n",
    "valorDaHoraDeTrabalho: float = float(input(\"Informe o valor da sua hora de trabalho: \"))\n",
    "quantidadeDeHorasTrabalhadaNoMes: float = float(input(\"Agora informe a quantidade de horas trabalhada no mês: \"))\n",
    "\n",
    "calculoDoSalarioNoMes = valorDaHoraDeTrabalho * quantidadeDeHorasTrabalhadaNoMes\n",
    "\n",
    "print(f\"O seu salario no respectivo mês é de {calculoDoSalarioNoMes:.2f}\")\n"
   ]
  },
  {
   "cell_type": "code",
   "execution_count": 11,
   "metadata": {},
   "outputs": [
    {
     "name": "stdout",
     "output_type": "stream",
     "text": [
      "O seu salario no mês é de       1000.0\n"
     ]
    }
   ],
   "source": [
    "## Segunda maneira\n",
    "\n",
    "print(f\"O seu salario no mês é de \\\n",
    "      {float(input(\"Preço da Hora de trabalho: \")) * \\\n",
    "float(input(\"Horas Trabalhada: \"))}\")\n",
    "\n"
   ]
  },
  {
   "cell_type": "markdown",
   "metadata": {},
   "source": [
    "##### 9. Faça um Programa que peça a temperatura em graus Fahrenheit, transforme e mostre a temperatura em graus Celsius. C = 5 * ((F-32) / 9).\n"
   ]
  },
  {
   "cell_type": "code",
   "execution_count": 12,
   "metadata": {},
   "outputs": [
    {
     "name": "stdout",
     "output_type": "stream",
     "text": [
      "Essa temperatura corresponde a uma temperatura de -40.00 °C\n"
     ]
    }
   ],
   "source": [
    "temperaturaEmFahrenheit: float = float(input(\"Informe a temperatura em graus Fahrenheit: \"))\n",
    "\n",
    "print(f\"Essa temperatura corresponde a uma temperatura de {(5 * (temperaturaEmFahrenheit - 32) / 9):.2f} °C\")\n"
   ]
  },
  {
   "cell_type": "markdown",
   "metadata": {},
   "source": [
    "##### 10. Faça um Programa que peça a temperatura em graus Celsius, transforme e mostre em graus Fahrenheit.\n"
   ]
  },
  {
   "cell_type": "code",
   "execution_count": 13,
   "metadata": {},
   "outputs": [
    {
     "name": "stdout",
     "output_type": "stream",
     "text": [
      "Essa temperatura corresponde a uma temperatura de 32.00 °F\n"
     ]
    }
   ],
   "source": [
    "temperaturaEmCelsius: float = float(input(\"Informe a temperatura em graus Celsius: \"))\n",
    "\n",
    "print(f\"Essa temperatura corresponde a uma temperatura de {((9 * temperaturaEmCelsius / 5) + 32):.2f} °F\")"
   ]
  },
  {
   "cell_type": "markdown",
   "metadata": {},
   "source": [
    "##### 11. Faça um Programa que peça 2 números inteiros e um número real. Calcule e mostre:"
   ]
  },
  {
   "cell_type": "code",
   "execution_count": 22,
   "metadata": {},
   "outputs": [
    {
     "name": "stdout",
     "output_type": "stream",
     "text": [
      "Primeiro número informado: 2.\n",
      "Segundo núemro informado: 4.\n"
     ]
    }
   ],
   "source": [
    "primeiroNumeroInteiro: int = int(input(\"Informe o primeiro número inteiro: \"))\n",
    "segundoNumeroInteiro: int = int(input(\"Informe o segundo número inteiro: \"))\n",
    "\n",
    "print(f\"Primeiro número informado: {primeiroNumeroInteiro}.\")\n",
    "print(f\"Segundo núemro informado: {segundoNumeroInteiro}.\")"
   ]
  },
  {
   "cell_type": "markdown",
   "metadata": {},
   "source": [
    "##### a. o produto do dobro do primeiro com metade do segundo .\n"
   ]
  },
  {
   "cell_type": "code",
   "execution_count": 15,
   "metadata": {},
   "outputs": [
    {
     "name": "stdout",
     "output_type": "stream",
     "text": [
      "8.0\n"
     ]
    }
   ],
   "source": [
    "print(f\"{(2 * primeiroNumeroInteiro) * (segundoNumeroInteiro / 2)}\")"
   ]
  },
  {
   "cell_type": "markdown",
   "metadata": {},
   "source": [
    "##### b. a soma do triplo do primeiro com o terceiro."
   ]
  },
  {
   "cell_type": "code",
   "execution_count": 23,
   "metadata": {},
   "outputs": [
    {
     "name": "stdout",
     "output_type": "stream",
     "text": [
      "O terceiro número informado: 3.0\n"
     ]
    }
   ],
   "source": [
    "terceiroNumeroReal: float = float(input(\"Informe o número decimal: \"))\n",
    "\n",
    "print(f\"O terceiro número informado: {terceiroNumeroReal}\")"
   ]
  },
  {
   "cell_type": "code",
   "execution_count": 20,
   "metadata": {},
   "outputs": [
    {
     "name": "stdout",
     "output_type": "stream",
     "text": [
      "8.0\n"
     ]
    }
   ],
   "source": [
    "print(f\"{3 * primeiroNumeroInteiro + terceiroNumeroReal}\")"
   ]
  },
  {
   "cell_type": "markdown",
   "metadata": {},
   "source": [
    "##### c. o terceiro elevado ao cubo."
   ]
  },
  {
   "cell_type": "code",
   "execution_count": 24,
   "metadata": {},
   "outputs": [
    {
     "name": "stdout",
     "output_type": "stream",
     "text": [
      "27.0\n"
     ]
    }
   ],
   "source": [
    "print(f\"{terceiroNumeroReal ** 3}\")"
   ]
  },
  {
   "cell_type": "markdown",
   "metadata": {},
   "source": [
    "# 12. Tendo como dados de entrada a altura de uma pessoa, construa um algoritmo que calcule seu peso ideal, usando a seguinte fórmula: (72.7*altura) - 58"
   ]
  },
  {
   "cell_type": "markdown",
   "metadata": {},
   "source": [
    "# 13. Tendo como dado de entrada a altura (h) de uma pessoa, construa um algoritmo que calcule seu peso ideal, utilizando as seguintes fórmulas:\n",
    "### a. Para homens: (72.7*h) - 58\n",
    "### b. Para mulheres: (62.1*h) - 44.7"
   ]
  },
  {
   "cell_type": "markdown",
   "metadata": {},
   "source": [
    "##### 14. João Papo-de-Pescador, homem de bem, comprou um microcomputador para controlar o rendimento diário de seu trabalho. Toda vez que ele traz um peso de peixes maior que o estabelecido pelo regulamento de pesca do estado de São Paulo (50 quilos) deve pagar uma multa de R$ 4,00 por quilo excedente. João precisa que você faça um programa que leia a variável peso (peso de peixes) e calcule o excesso. Gravar na variável excesso a quantidade de quilos além do limite e na variável multa o valor da multa que João deverá pagar. Imprima os dados do programa com as mensagens adequadas."
   ]
  },
  {
   "cell_type": "markdown",
   "metadata": {},
   "source": [
    "#### 15. Faça um Programa que pergunte quanto você ganha por hora e o número de horas trabalhadas no mês. Calcule e mostre o total do seu salário no referido mês, sabendo-se que são descontados 11% para o Imposto de Renda, 8% para o INSS e 5% para o sindicato, faça um programa que nos dê:\n",
    "\n",
    "##### a. salário bruto.\n",
    "##### b. quanto pagou ao INSS.\n",
    "##### c. quanto pagou ao sindicato.\n",
    "##### d. o salário líquido.\n",
    "##### e. calcule os descontos e o salário líquido, conforme a tabela abaixo:\n",
    "##### + Salário Bruto : R$\n",
    "##### - IR (11%) : R$\n",
    "##### - INSS (8%) : R$\n",
    "##### - Sindicato ( 5%) : R$\n",
    "##### = Salário Liquido : R$"
   ]
  },
  {
   "cell_type": "markdown",
   "metadata": {},
   "source": [
    "#### 16. Faça um programa para uma loja de tintas. O programa deverá pedir o tamanho em metros quadrados da área a ser pintada. Considere que a cobertura da tinta é de 1 litro para cada 3 metros quadrados e que a tinta é vendida em latas de 18 litros, que custam R$ 80,00. Informe ao usuário a quantidades de latas de tinta a serem compradas e o preço total."
   ]
  },
  {
   "cell_type": "markdown",
   "metadata": {},
   "source": [
    "##### 17. Faça um Programa para uma loja de tintas. O programa deverá pedir o tamanho em metros quadrados da área a ser pintada. Considere que a cobertura da tinta é de 1 litro para cada 6 metros quadrados e que a tinta é vendida em latas de 18 litros, que custam R$ 80,00 ou em galões de 3,6 litros, que custam R$ 25,00. Informe ao usuário as quantidades de tinta a serem compradas e os respectivos preços em 3 situações:\n",
    "- comprar apenas latas de 18 litros;\n",
    "- comprar apenas galões de 3,6 litros;\n",
    "- misturar latas e galões, de forma que o desperdício de tinta seja menor. Acrescente 10% de folga e sempre arredonde os valores para cima, isto é, considere latas cheias."
   ]
  },
  {
   "cell_type": "markdown",
   "metadata": {},
   "source": [
    "##### 18. Faça um programa que peça o tamanho de um arquivo para download (em MB) e a velocidade de um link de Internet (em Mbps), calcule e informe o tempo aproximado de download do arquivo usando este link (em minutos).\n"
   ]
  },
  {
   "cell_type": "markdown",
   "metadata": {},
   "source": []
  }
 ],
 "metadata": {
  "kernelspec": {
   "display_name": "Python 3",
   "language": "python",
   "name": "python3"
  },
  "language_info": {
   "codemirror_mode": {
    "name": "ipython",
    "version": 3
   },
   "file_extension": ".py",
   "mimetype": "text/x-python",
   "name": "python",
   "nbconvert_exporter": "python",
   "pygments_lexer": "ipython3",
   "version": "3.12.1"
  }
 },
 "nbformat": 4,
 "nbformat_minor": 2
}
