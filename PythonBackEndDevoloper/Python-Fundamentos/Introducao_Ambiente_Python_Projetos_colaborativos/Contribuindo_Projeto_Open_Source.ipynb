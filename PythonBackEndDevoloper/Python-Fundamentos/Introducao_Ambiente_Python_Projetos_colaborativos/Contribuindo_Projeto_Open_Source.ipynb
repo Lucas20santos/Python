{
  "cells": [
    {
      "cell_type": "markdown",
      "metadata": {
        "colab_type": "text",
        "id": "view-in-github"
      },
      "source": [
        "<a href=\"https://colab.research.google.com/github/Lucas20santos/Python/blob/master/Contribuindo_Projeto_Open_Source.ipynb\" target=\"_parent\"><img src=\"https://colab.research.google.com/assets/colab-badge.svg\" alt=\"Open In Colab\"/></a>"
      ]
    },
    {
      "cell_type": "markdown",
      "metadata": {
        "id": "9-VTwfyA82Qn"
      },
      "source": [
        "# Contribuindo em Projeto Open Source\n",
        "\n",
        "## O que é um Projeto Open Soruce ?\n",
        "\n",
        "É um projeto de Còdigo aberto, libre para ser utilizado, modificado e distribuído. Alguns exemples são:\n",
        "\n",
        "- Linux, sob a licença GNU General Public License (GPL);\n",
        "- Roadmaps DIO, sob a licença MIT Licence(MIT).\n",
        "\n",
        "## Formas de Contribuir em um Projeto Open Source\n",
        "\n",
        "- Relatar algum problema ou bug;\n",
        "- Sugerir melhorias ou adição de novos recursos;\n",
        "- Escrever ou atualizar a documentação;\n",
        "- Contribuir com o códigoo;\n",
        "- Divulgar e/ou doar.\n",
        "\n",
        "## Dicas\n",
        "\n",
        "- Encontre um projeto do seu interesse e adicione ao seu portfolio indicando a forma como contribuiu;\n",
        "- Participe da comunidade e desenvolvam juntos;\n",
        "- Conheça e respeite o padrão do projeto que for contribuir;\n",
        "- Bônus: Como editar arquivos pelo GitHub.  \n"
      ]
    }
  ],
  "metadata": {
    "colab": {
      "authorship_tag": "ABX9TyPbp/umoqPXfTC22vBEh5vB",
      "include_colab_link": true,
      "provenance": []
    },
    "kernelspec": {
      "display_name": "Python 3",
      "name": "python3"
    },
    "language_info": {
      "name": "python"
    }
  },
  "nbformat": 4,
  "nbformat_minor": 0
}
