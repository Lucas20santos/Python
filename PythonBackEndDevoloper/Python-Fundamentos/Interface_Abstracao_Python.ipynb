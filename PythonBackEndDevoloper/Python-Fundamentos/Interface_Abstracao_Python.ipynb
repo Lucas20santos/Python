{
  "nbformat": 4,
  "nbformat_minor": 0,
  "metadata": {
    "colab": {
      "provenance": [],
      "authorship_tag": "ABX9TyN6/VjsjvklV+3a+mHwNP9z",
      "include_colab_link": true
    },
    "kernelspec": {
      "name": "python3",
      "display_name": "Python 3"
    },
    "language_info": {
      "name": "python"
    }
  },
  "cells": [
    {
      "cell_type": "markdown",
      "metadata": {
        "id": "view-in-github",
        "colab_type": "text"
      },
      "source": [
        "<a href=\"https://colab.research.google.com/github/Lucas20santos/Python/blob/master/Interface_Abstracao_Python.ipynb\" target=\"_parent\"><img src=\"https://colab.research.google.com/assets/colab-badge.svg\" alt=\"Open In Colab\"/></a>"
      ]
    },
    {
      "cell_type": "markdown",
      "source": [
        "# Interfaces e Classes Abstratas\n",
        "\n",
        "## Variáveis de classes e variáveis de instãncia\n",
        "\n",
        "### O que são e como utilizamos\n",
        "\n",
        "Todos os objetos nascem com o mesmo número de atributos de classe e de instância. Atributos de instância são diferentes para cada objeto (cada objeto tem uma cópia), já os atributos de classe são compartilhados entre os objetos.\n",
        "\n"
      ],
      "metadata": {
        "id": "QHVoGBJzdcRJ"
      }
    },
    {
      "cell_type": "code",
      "execution_count": null,
      "metadata": {
        "colab": {
          "base_uri": "https://localhost:8080/"
        },
        "id": "W8I-kk0saqXV",
        "outputId": "9cbfa6ce-d285-4fce-b381-d12d7ab93af1"
      },
      "outputs": [
        {
          "output_type": "stream",
          "name": "stdout",
          "text": [
            "Guilherme (12345) - DIO\n",
            "Giovana (56789) - DIO\n",
            "Guilherme (12345) - Python\n",
            "Giovana (56789) - Python\n"
          ]
        }
      ],
      "source": [
        "class Estudante(object):\n",
        "  escola:str = \"DIO\"\n",
        "\n",
        "  def __init__(self, nome, numero) -> None:\n",
        "    self.nome = nome\n",
        "    self.numero = numero\n",
        "\n",
        "  def __str__(self) -> str:\n",
        "    return f\"{self.nome} ({self.numero}) - {self.escola}\"\n",
        "\n",
        "\n",
        "gui = Estudante(\"Guilherme\", 12345)\n",
        "g1 = Estudante(\"Giovana\", 56789)\n",
        "\n",
        "print(gui)\n",
        "print(g1)\n",
        "\n",
        "Estudante.escola = \"Python\"\n",
        "\n",
        "print(gui)\n",
        "print(g1)\n"
      ]
    },
    {
      "cell_type": "markdown",
      "source": [
        "## Métodos de classe e métodos estáticos\n",
        "\n",
        "### Métodos de class\n",
        "\n",
        "Métodos de classe estão ligados à classe e não ao objeto. Eles têm acesso ao estado da classe, pois recebem um parâmetro que aponta para a classe e não para a instância do objeto\n",
        "\n",
        "### Métodos estáticos\n",
        "\n",
        "Um método estático não recebe um primeiro argumento explícito. Ele também é um método vinculado à classe e não ao objeto da classe. Este método não pode acessar ou modificar o estado da classe. Ele está presente em uma calsse porque faz sentido que o método esteja presente na classe.\n",
        "\n",
        "### Métodos de classe x métodos estáticos\n",
        "\n",
        "- Um método de classe recebe um primeiro parâmetro que aponta para a classe, enquanto um método estático não.\n",
        "- Um método de classe pode acessar ou modificar o estado da classe esquanto um método estático naõ pode acessá-lo ou modificá-lo\n",
        "\n",
        "### Quado utilizar método de classe ou estático\n",
        "\n",
        "- Geralmente usamos o método de classe para criar métodos de fábrica.\n",
        "- Geralmente usamos métodos estáticos para criar funções utilitárias.\n",
        "\n"
      ],
      "metadata": {
        "id": "qypUTRBNW7mK"
      }
    },
    {
      "cell_type": "code",
      "source": [
        "class Pessoa:\n",
        "  def __init__(self, nome=None, idade=None) -> None:\n",
        "    self.nome = nome\n",
        "    self.idade = idade\n",
        "\n",
        "  @classmethod\n",
        "  # Esse decoration transforma o método em método de classe\n",
        "  def criar_de_data_nascimento(cls, ano, mes, dia, nome):\n",
        "    idade = 2024 - ano\n",
        "    return cls(nome, idade)\n",
        "    print(cls)\n",
        "\n",
        "  @staticmethod\n",
        "  def e_maior_idade(idade):\n",
        "    return \"É maior de idade!\" if idade >= 18 else \"Não é maior de idade!\"\n",
        "\n",
        "# p = Pessoa(\"Guilherme\", 28)\n",
        "# print(p.nome, p.idade)\n",
        "\n",
        "p = Pessoa.criar_de_data_nascimento(nome=\"Lucas\", ano=1992, mes=\"fevereiro\", dia=21)\n",
        "print(p.nome, p.idade)\n",
        "\n",
        "print(Pessoa.e_maior_idade(20))\n",
        "print(Pessoa.e_maior_idade(8))\n"
      ],
      "metadata": {
        "id": "kOG51p6IY5CA",
        "colab": {
          "base_uri": "https://localhost:8080/"
        },
        "outputId": "cf7b5b52-a117-45e6-e6e4-47f0ea4d2bd5"
      },
      "execution_count": 17,
      "outputs": [
        {
          "output_type": "stream",
          "name": "stdout",
          "text": [
            "Lucas 32\n",
            "É maior de idade!\n",
            "Não é maior de idade!\n"
          ]
        }
      ]
    },
    {
      "cell_type": "markdown",
      "source": [
        "## Classes abstratas\n",
        "\n",
        "### O que são interfaces\n",
        "\n",
        "**IMPORTANTE**\n",
        "\n",
        "Interfaces o que uma classe deve fazer e não como.\n",
        "\n",
        "#### Python tem interface ?\n",
        "\n",
        "O conceito de interface é definir um contrato, onde são declarados os métodos (o que deve ser feito) e suas respectivas assinaturas. Em Python utilizamos classes abstratas para criar contratos. Classes abstratas não podem ser instanciadas.\n",
        "\n",
        "### Criando classes abstratas com o módulos abc\n",
        "\n",
        "#### ABC\n",
        "\n",
        "Por padrão, o Python não fornece classes abstratas. O Python vem com um módulo que fornece a base para definir as classes abstratas, e o nome do módulo é ABC. O ABC funciona decorando métodos da classe base como abstratos e, em seguida, registrando classes concretas como implementações da base abstrata. Um método se torna abstrato quando decorado com @abstractmethod.\n"
      ],
      "metadata": {
        "id": "8Rbg8XmkgPWL"
      }
    },
    {
      "cell_type": "code",
      "source": [
        "from abc import ABC, abstractmethod, abstractproperty\n",
        "\n",
        "class ControleRemoto(ABC):\n",
        "\n",
        "  @abstractmethod\n",
        "  def ligar(self):\n",
        "    pass\n",
        "\n",
        "  @abstractmethod\n",
        "  def desligar(self):\n",
        "    pass\n",
        "\n",
        "  @property\n",
        "  @abstractproperty\n",
        "  def marca(self):\n",
        "    pass\n",
        "\n",
        "class ControleTV(ControleRemoto):\n",
        "\n",
        "  def ligar(self):\n",
        "    print(\"Ligando...\")\n",
        "\n",
        "  def desligar(self):\n",
        "    print(\"Desligando...\")\n",
        "\n",
        "  @property\n",
        "  def marca(self):\n",
        "    return \"TV - LG\"\n",
        "\n",
        "class ControleArCondicionado(ControleRemoto):\n",
        "\n",
        "  def ligar(self):\n",
        "    print(\"Ligando Ar...\")\n",
        "\n",
        "  def desligar(self):\n",
        "    print(\"Desligando Ar...\")\n",
        "\n",
        "  @property\n",
        "  def marca(self):\n",
        "    return 'AR - LG'\n",
        "\n",
        "TV = ControleTV()\n",
        "\n",
        "TV.ligar()\n",
        "TV.desligar()\n",
        "print(TV.marca)\n",
        "\n",
        "ar = ControleArCondicionado()\n",
        "ar.ligar()\n",
        "ar.desligar()\n",
        "ar.marca\n"
      ],
      "metadata": {
        "colab": {
          "base_uri": "https://localhost:8080/"
        },
        "id": "pCwLVzY6hLas",
        "outputId": "a5cd1ad8-f715-4c9b-9a3c-107b2ef9792b"
      },
      "execution_count": 29,
      "outputs": [
        {
          "output_type": "stream",
          "name": "stdout",
          "text": [
            "Ligando...\n",
            "Desligando...\n",
            "TV - LG\n",
            "Ligando Ar...\n",
            "Desligando Ar...\n",
            "AR - LG\n"
          ]
        }
      ]
    }
  ]
}