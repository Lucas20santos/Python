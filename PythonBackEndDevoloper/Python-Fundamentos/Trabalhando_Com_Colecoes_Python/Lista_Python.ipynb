{
  "nbformat": 4,
  "nbformat_minor": 0,
  "metadata": {
    "colab": {
      "provenance": [],
      "authorship_tag": "ABX9TyMjqrjQYoXOXQyrksXJmhku",
      "include_colab_link": true
    },
    "kernelspec": {
      "name": "python3",
      "display_name": "Python 3"
    },
    "language_info": {
      "name": "python"
    }
  },
  "cells": [
    {
      "cell_type": "markdown",
      "metadata": {
        "id": "view-in-github",
        "colab_type": "text"
      },
      "source": [
        "<a href=\"https://colab.research.google.com/github/Lucas20santos/Python/blob/main/Lista_Python.ipynb\" target=\"_parent\"><img src=\"https://colab.research.google.com/assets/colab-badge.svg\" alt=\"Open In Colab\"/></a>"
      ]
    },
    {
      "cell_type": "markdown",
      "source": [
        "# Trabalhando com Lista em Python\n",
        "\n",
        "## Criação e acesso aos dados\n",
        "\n",
        "### Criando listas\n",
        "\n",
        "Listas em Python podem armazenar de maniera sequencial qualquer tipo de objeto. Podemos criar listas utilizando o construtor list, a função range ou colocando valores separados por vírgula dentro de colchetes. Lista são objetos mutáveis, portanto podemos alterar seus valores após a criação."
      ],
      "metadata": {
        "id": "YnDhcFdMijLh"
      }
    },
    {
      "cell_type": "code",
      "execution_count": null,
      "metadata": {
        "colab": {
          "base_uri": "https://localhost:8080/"
        },
        "id": "_UCpuINliYvE",
        "outputId": "62748acc-5e67-41e9-c30d-681e866903d0"
      },
      "outputs": [
        {
          "output_type": "stream",
          "name": "stdout",
          "text": [
            "['laranja', 'maça', 'uva']\n",
            "[]\n",
            "['p', 'y', 't', 'h', 'o', 'n']\n",
            "[0, 1, 2, 3, 4, 5, 6, 7, 8, 9]\n",
            "['Ferrari', 'F8', 420000, 2023, 290, 'Recife', True]\n"
          ]
        }
      ],
      "source": [
        "# A menira padrão de declarar uma lista\n",
        "frutas = [\"laranja\", \"maça\", \"uva\"]\n",
        "print(frutas)\n",
        "# Declarando uma lista vazia\n",
        "frutas = []\n",
        "print(frutas)\n",
        "# Criando uma lista atraves do seu construtor, passando um iteravel\n",
        "letras = list(\"python\")\n",
        "print(letras)\n",
        "# Criando uma lista usando um objeto do tipo range\n",
        "numeros = list(range(10))\n",
        "print(numeros)\n",
        "# Criando uma lista com vários dados de tipos diferentes\n",
        "carro = [\"Ferrari\", \"F8\", 420000, 2023, 290, \"Recife\", True]\n",
        "print(carro)"
      ]
    },
    {
      "cell_type": "markdown",
      "source": [
        "## Acesso direto\n",
        "\n",
        "A lista é uma sequência, portanto podemos acessar seus dados utilizando índices. Contamos o índice de determinada sequência a partir do zero.\n"
      ],
      "metadata": {
        "id": "UMz4XGiCoADW"
      }
    },
    {
      "cell_type": "code",
      "source": [
        "frutas = [\"laranja\", \"maça\", \"uva\"]\n",
        "print(frutas[0])\n",
        "print(frutas[1])\n",
        "print(frutas[2])"
      ],
      "metadata": {
        "colab": {
          "base_uri": "https://localhost:8080/"
        },
        "id": "UPKMAC8DoPdj",
        "outputId": "1e85c0d0-2c96-43a7-cb65-119eabb2dcf2"
      },
      "execution_count": null,
      "outputs": [
        {
          "output_type": "stream",
          "name": "stdout",
          "text": [
            "laranja\n",
            "maça\n",
            "uva\n"
          ]
        }
      ]
    },
    {
      "cell_type": "markdown",
      "source": [
        "## Índices negativos\n",
        "\n",
        "Sequências suportam indexação negativa. A contagem começa em -1."
      ],
      "metadata": {
        "id": "T3RL6QxEoltR"
      }
    },
    {
      "cell_type": "code",
      "source": [
        "frutas = [\"laranja\", \"maça\", \"uva\", \"pera\"]\n",
        "\n",
        "print(frutas[-1])\n",
        "print(frutas[-2])\n",
        "print(frutas[-len(frutas)])"
      ],
      "metadata": {
        "colab": {
          "base_uri": "https://localhost:8080/"
        },
        "id": "xE8JOyo8ouf9",
        "outputId": "3c51f598-235f-4062-eb1b-4be4b26e5a74"
      },
      "execution_count": null,
      "outputs": [
        {
          "output_type": "stream",
          "name": "stdout",
          "text": [
            "pera\n",
            "uva\n",
            "laranja\n"
          ]
        }
      ]
    },
    {
      "cell_type": "markdown",
      "source": [
        "## Listas aninhadas\n",
        "\n",
        "Listas podem armazenar todos os tipos de objetos Python, portanto podemos ter listas que armazenan outra listas. COm isso, podemos criar estruturas bidimensionais (tabelas), e acessar informando os índices de linha e coluna."
      ],
      "metadata": {
        "id": "2MjFon2vpJDH"
      }
    },
    {
      "cell_type": "code",
      "source": [
        "matriz = [\n",
        "    [1, \"a\", 2],\n",
        "    [\"b\", 3, 4],\n",
        "    [6, 5, \"c\"]\n",
        "]\n",
        "\n",
        "print(matriz[0])\n",
        "print(matriz[0][0])\n",
        "print(matriz[0][-1])\n",
        "print(matriz[-1][-1])"
      ],
      "metadata": {
        "colab": {
          "base_uri": "https://localhost:8080/"
        },
        "id": "nO87zYf_paF9",
        "outputId": "0019ac2a-0316-4d84-fedf-3249e679fa04"
      },
      "execution_count": null,
      "outputs": [
        {
          "output_type": "stream",
          "name": "stdout",
          "text": [
            "[1, 'a', 2]\n",
            "1\n",
            "2\n",
            "c\n"
          ]
        }
      ]
    },
    {
      "cell_type": "markdown",
      "source": [
        "## Fatiamento\n",
        "\n",
        "Além de acessar elementos diretamente, podemos extrair um conjunto de valores de uam sequencia. Para isso basta passar o indice inicial e/ou final para acessar o conjunto. Podemos ainda informar quantas posições o cursor deve \"pular\" no acesso."
      ],
      "metadata": {
        "id": "h58PK93Cp_XY"
      }
    },
    {
      "cell_type": "code",
      "source": [
        "lista = [\"p\", \"y\", \"t\", \"h\", \"0\", \"n\"]\n",
        "print(lista[2:])\n",
        "print(lista[:2])\n",
        "print(lista[1:3])\n",
        "print(lista[0:3:2])\n",
        "print(lista[::])\n",
        "print(lista[::-1])"
      ],
      "metadata": {
        "colab": {
          "base_uri": "https://localhost:8080/"
        },
        "id": "9__fibVVqQjm",
        "outputId": "8a936cc8-9103-4ca2-f74c-8826caed23ca"
      },
      "execution_count": null,
      "outputs": [
        {
          "output_type": "stream",
          "name": "stdout",
          "text": [
            "['t', 'h', '0', 'n']\n",
            "['p', 'y']\n",
            "['y', 't']\n",
            "['p', 't']\n",
            "['p', 'y', 't', 'h', '0', 'n']\n",
            "['n', '0', 'h', 't', 'y', 'p']\n"
          ]
        }
      ]
    },
    {
      "cell_type": "markdown",
      "source": [
        "## Iterar listas\n",
        "\n",
        "A forma mais comum para percorrer os dados de uma lista é utilizando o comando **for**."
      ],
      "metadata": {
        "id": "TmDNhJzws04j"
      }
    },
    {
      "cell_type": "code",
      "source": [
        "carros = [\"gol\", \"celta\", \"palio\"]\n",
        "\n",
        "for carro in carros:\n",
        "  print(carro)\n",
        "\n",
        "for indice, carro in enumerate(carros):\n",
        "  print(f\"{indice} - {carro}\")"
      ],
      "metadata": {
        "colab": {
          "base_uri": "https://localhost:8080/"
        },
        "id": "gMKXjj6As9k3",
        "outputId": "b483c55a-b0d0-4e5c-a86f-c1ca7ff8a192"
      },
      "execution_count": null,
      "outputs": [
        {
          "output_type": "stream",
          "name": "stdout",
          "text": [
            "gol\n",
            "celta\n",
            "palio\n",
            "0 - gol\n",
            "1 - celta\n",
            "2 - palio\n"
          ]
        }
      ]
    },
    {
      "cell_type": "markdown",
      "source": [
        "## Compreensão de listas\n",
        "\n",
        "A compreensão de lista oferece uma sintaxe mais curta quando você deseja: criar uma nova lista com base nos valores de uma lista existente (filtro) ou gerar uma nova lista aplicando alguma modificação nos elementos de uma lista existente."
      ],
      "metadata": {
        "id": "2s9pw_7OteTC"
      }
    },
    {
      "cell_type": "code",
      "source": [
        "lista = [0, 1, 2, 3, 4, 5, 6, 7, 8, 9, 10]\n",
        "\n",
        "lista_par = list(x for x in lista if x % 2 == 0 and x != 0)\n",
        "print(lista_par)\n",
        "lista_impar = [x for x in lista if x % 2 == 1]\n",
        "print(lista_impar)\n",
        "dobro = [x * 2 for x in lista]\n",
        "print(dobro)\n",
        "triplo = list(x * 3 for x in lista)\n",
        "print(triplo)"
      ],
      "metadata": {
        "colab": {
          "base_uri": "https://localhost:8080/"
        },
        "id": "PMyUFzlctZE5",
        "outputId": "12edb5dc-4dc4-4deb-a917-a1171cb1614b"
      },
      "execution_count": null,
      "outputs": [
        {
          "output_type": "stream",
          "name": "stdout",
          "text": [
            "[2, 4, 6, 8, 10]\n",
            "[1, 3, 5, 7, 9]\n",
            "[0, 2, 4, 6, 8, 10, 12, 14, 16, 18, 20]\n",
            "[0, 3, 6, 9, 12, 15, 18, 21, 24, 27, 30]\n"
          ]
        }
      ]
    },
    {
      "cell_type": "markdown",
      "source": [
        "## Métodos da classe list\n"
      ],
      "metadata": {
        "id": "yPgh5kLvvtC7"
      }
    },
    {
      "cell_type": "code",
      "source": [
        "lista = []\n",
        "\n",
        "lista.append(1)\n",
        "lista.append(\"Python\")\n",
        "lista.append(\"Lucas\")\n",
        "print(lista)\n",
        "\n",
        "lista.clear()\n",
        "print(lista)\n",
        "\n",
        "lista = []\n",
        "\n",
        "# Adicionando elemento no final da lista\n",
        "lista.append(1)\n",
        "lista.append(\"Python\")\n",
        "lista.append(\"Lucas\")\n",
        "\n",
        "# Fazendo a copia da minha lista e armazendo em uma segunda variavel\n",
        "lista2 = lista.copy()\n",
        "print(lista2)\n",
        "print(lista == lista2)\n",
        "\n",
        "# Fazendo contagem do elemento \"Lucas\" com o count\n",
        "print(lista.count(\"Lucas\"))\n",
        "# Fazendo extensão da lista com o metodo extend\n",
        "lista.extend([\"Java\", 2])\n",
        "print(lista)\n",
        "\n",
        "# Verificando o index do elemento \"Java\"\n",
        "print(lista.index(\"Java\"))\n",
        "\n",
        "# Removendo o elemento da ultima posição\n",
        "print(lista.pop())\n",
        "\n",
        "# Removendo elemento com o pop() usando index\n",
        "print(lista.pop(0))\n",
        "\n",
        "# Removendo elemento passando o nome do elemento que será removido\n",
        "lista.remove(\"Java\")\n",
        "print(lista)\n",
        "# Revertendo a ordem da lista\n",
        "lista.reverse()\n",
        "print(lista)\n",
        "\n",
        "lista.append(\"Javascript\")\n",
        "lista.append(\"Csharp\")\n",
        "\n",
        "# Ordenando a lista em ordem alfabetica\n",
        "lista.sort()\n",
        "print(lista)\n",
        "\n",
        "# Revertendo a ordenação em ordem alfabetica\n",
        "lista.sort(reverse=True)\n",
        "print(lista)\n",
        "\n",
        "# Usando uma função lambda para ordenar pelo tamanho das string\n",
        "lista.sort(key=lambda x: len(x))\n",
        "print(lista)\n",
        "\n",
        "# Usnando a função lambda para ordenar pelo tamanho e depois revertendo a ordem\n",
        "lista.sort(key=lambda x: len(x), reverse=True)\n",
        "print(lista)\n"
      ],
      "metadata": {
        "colab": {
          "base_uri": "https://localhost:8080/"
        },
        "id": "gk4cy4mg9CjK",
        "outputId": "2e9bad3a-9a1a-40ba-b643-0fe8d8238568"
      },
      "execution_count": null,
      "outputs": [
        {
          "output_type": "stream",
          "name": "stdout",
          "text": [
            "[1, 'Python', 'Lucas']\n",
            "[]\n",
            "[1, 'Python', 'Lucas']\n",
            "True\n",
            "1\n",
            "[1, 'Python', 'Lucas', 'Java', 2]\n",
            "3\n",
            "2\n",
            "1\n",
            "['Python', 'Lucas']\n",
            "['Lucas', 'Python']\n",
            "['Csharp', 'Javascript', 'Lucas', 'Python']\n",
            "['Python', 'Lucas', 'Javascript', 'Csharp']\n",
            "['Lucas', 'Python', 'Csharp', 'Javascript']\n",
            "['Javascript', 'Python', 'Csharp', 'Lucas']\n"
          ]
        }
      ]
    },
    {
      "cell_type": "code",
      "source": [
        "[n**2 if n > 6 else n for n in range(10) if n % 2 == 0]"
      ],
      "metadata": {
        "colab": {
          "base_uri": "https://localhost:8080/"
        },
        "id": "uRi6JSY0Bdam",
        "outputId": "daf1f36f-9264-484a-c1e2-782c83d6c785"
      },
      "execution_count": null,
      "outputs": [
        {
          "output_type": "execute_result",
          "data": {
            "text/plain": [
              "[0, 2, 4, 6, 64]"
            ]
          },
          "metadata": {},
          "execution_count": 36
        }
      ]
    },
    {
      "cell_type": "code",
      "source": [],
      "metadata": {
        "id": "vdpSyqUcE8CD"
      },
      "execution_count": null,
      "outputs": []
    }
  ]
}