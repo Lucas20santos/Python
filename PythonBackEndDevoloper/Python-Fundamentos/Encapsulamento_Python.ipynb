{
  "nbformat": 4,
  "nbformat_minor": 0,
  "metadata": {
    "colab": {
      "provenance": [],
      "authorship_tag": "ABX9TyOE5/4j9KoRdIO596DvggWL",
      "include_colab_link": true
    },
    "kernelspec": {
      "name": "python3",
      "display_name": "Python 3"
    },
    "language_info": {
      "name": "python"
    }
  },
  "cells": [
    {
      "cell_type": "markdown",
      "metadata": {
        "id": "view-in-github",
        "colab_type": "text"
      },
      "source": [
        "<a href=\"https://colab.research.google.com/github/Lucas20santos/Python/blob/master/Encapsulamento_Python.ipynb\" target=\"_parent\"><img src=\"https://colab.research.google.com/assets/colab-badge.svg\" alt=\"Open In Colab\"/></a>"
      ]
    },
    {
      "cell_type": "markdown",
      "source": [
        "# Encapsulamento\n",
        "\n",
        "## Etapa 1: O que é encapsulamento ?\n",
        "\n",
        "### Proteção de acesso\n",
        "\n",
        "O encapsulamento é um dos conceitos fundamentais em programação orientada a objetos. Ele descreve a ideia de agrupar dados e os métodos que manipulam esses dados em uma unidade. Isso impõe restrições ao acesso direto a variávies e métodos e pode evitar a modificação acidental de dados. Para evitar alterações acidentais, a variável de um objeto só pode ser alterada pelo método desse objeto.\n",
        "\n",
        "## Etapa 2: Recursos públicas e privados\n",
        "\n",
        "### Modificadores de acesso\n",
        "\n",
        "Em linguagens como Java e C++, existem palavras reservadas para definir o nível de acesso aos atributos e métodos da classe. Em Python não temos palavras reservadas, porém usamos convenções no nome do recurso, para definir se a variável é pública ou privada.\n",
        "\n",
        "### Definição\n",
        "\n",
        "- Público: Pode ser acessdo de fora da classe\n",
        "- Privado: Só pode ser acessado pela classe.\n",
        "\n",
        "### Público/Privado\n",
        "\n",
        "Todos os recursos são públicos, a menos que o nome inicie com underline. Ou seja, o interpretador Python não irá garantir a proteção do recurso, mas por ser uma convenção amplamente adotada na comunidade, quando encontramos uma variável e/ou método com nome iniciado por underline, sabemos que não deveríamos manipular o seu valor diretamente, ou invocar o método fora do escopo da classe.\n",
        "\n",
        "## Etapa 3: Properties\n",
        "\n",
        "### Para que servem ?\n",
        "\n",
        "Como o property() do Python, você pode criar atributos gerenciado sem sua classes. Você pode usar atributos gerenciados, também conhecidos como propriedades, quando precisar modificar sua implementçaõ interna sem alterar a API pública da classe."
      ],
      "metadata": {
        "id": "kPZAj2nNGTQU"
      }
    },
    {
      "cell_type": "markdown",
      "source": [
        "# Recuros público e privado"
      ],
      "metadata": {
        "id": "H6N2q4iR3ChI"
      }
    },
    {
      "cell_type": "code",
      "execution_count": null,
      "metadata": {
        "id": "qeu7IU8HGSPu"
      },
      "outputs": [],
      "source": [
        "class Conta:\n",
        "  def __init__(self, saldo) -> None:\n",
        "    self._saldo = saldo\n",
        "\n",
        "  def depositar(self, valor) -> None:\n",
        "    pass\n",
        "\n",
        "  def sacar(self, valor) -> None:\n",
        "    pass\n",
        "\n",
        "  def __str__(self) -> str:\n",
        "    return f\"\"\n",
        "\n",
        "c1 = Conta(200)\n",
        "c1.depositar(500)\n"
      ]
    },
    {
      "cell_type": "markdown",
      "source": [
        "### Properties exemplo"
      ],
      "metadata": {
        "id": "WWL20dd06wQL"
      }
    },
    {
      "cell_type": "code",
      "source": [
        "class Foo:\n",
        "  def __init__(self, x=None) -> None:\n",
        "    self._x = x\n",
        "\n",
        "  @property\n",
        "  def x(self):\n",
        "    return self._x or 0\n",
        "\n",
        "  @x.setter\n",
        "  def x(self, value) -> None:\n",
        "    _x = self._x or 0\n",
        "    _value = value or 0\n",
        "    self._x = _x + _value\n",
        "\n",
        "\n",
        "  def x(self):\n",
        "    self._x = -1\n",
        "\n",
        "\n",
        "foo = Foo(10)\n",
        "print(foo.x)\n",
        "foo.x = 10\n",
        "print(foo.x)\n",
        "del foo.x\n",
        "print(foo.x)\n"
      ],
      "metadata": {
        "colab": {
          "base_uri": "https://localhost:8080/"
        },
        "id": "A6H2OxAE6tjs",
        "outputId": "69f0b3fa-1491-4bd9-d633-f47c238a617a"
      },
      "execution_count": null,
      "outputs": [
        {
          "output_type": "stream",
          "name": "stdout",
          "text": [
            "<bound method Foo.x of <__main__.Foo object at 0x7aae2cc99c90>>\n",
            "10\n",
            "<bound method Foo.x of <__main__.Foo object at 0x7aae2cc99c90>>\n"
          ]
        }
      ]
    },
    {
      "cell_type": "code",
      "source": [],
      "metadata": {
        "id": "5vQ4VTXy8lQI"
      },
      "execution_count": null,
      "outputs": []
    }
  ]
}