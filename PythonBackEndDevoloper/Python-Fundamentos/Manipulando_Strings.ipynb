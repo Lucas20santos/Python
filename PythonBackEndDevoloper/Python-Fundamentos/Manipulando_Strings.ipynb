{
  "nbformat": 4,
  "nbformat_minor": 0,
  "metadata": {
    "colab": {
      "provenance": [],
      "authorship_tag": "ABX9TyP829GnABsFk+QKsqDnmOQ5",
      "include_colab_link": true
    },
    "kernelspec": {
      "name": "python3",
      "display_name": "Python 3"
    },
    "language_info": {
      "name": "python"
    }
  },
  "cells": [
    {
      "cell_type": "markdown",
      "metadata": {
        "id": "view-in-github",
        "colab_type": "text"
      },
      "source": [
        "<a href=\"https://colab.research.google.com/github/Lucas20santos/Python/blob/master/Manipulando_Strings.ipynb\" target=\"_parent\"><img src=\"https://colab.research.google.com/assets/colab-badge.svg\" alt=\"Open In Colab\"/></a>"
      ]
    },
    {
      "cell_type": "markdown",
      "source": [
        "# Minipulando Strings no Python\n",
        "\n",
        "## Conhecendo métodos úteis da classe string\n",
        "\n",
        "### Introdução\n",
        "\n",
        "A classe String do Python é famosa por ser rica em métodos e possuir uma interface muito fácil de trabalhar\n",
        "\n",
        "Em algumas linguagens manipular sequências de caracteres não é um trabalho trivial, porém, em Python esse trabalho é muito simples."
      ],
      "metadata": {
        "id": "eTQtguZJfWql"
      }
    },
    {
      "cell_type": "code",
      "execution_count": 4,
      "metadata": {
        "colab": {
          "base_uri": "https://localhost:8080/"
        },
        "id": "BQnffaJ6fRXJ",
        "outputId": "dfed799b-77da-48ac-edb8-355bc2c13224"
      },
      "outputs": [
        {
          "output_type": "stream",
          "name": "stdout",
          "text": [
            "PYTHON\n",
            "python\n",
            "Python\n",
            "PytHon\n",
            "PytHon\n",
            "PytHon\n",
            "##PytHon##\n",
            "P.y.t.H.o.n\n"
          ]
        }
      ],
      "source": [
        "curso = \"PytHon\"\n",
        "\n",
        "# COnverter todos os caracteres para maisculos\n",
        "print(curso.upper())\n",
        "# COnverter todos os caracteres para minusculos\n",
        "print(curso.lower())\n",
        "# Converter todos os caracteres para minusculos apenas a primeira que fica em maiusculas\n",
        "print(curso.title())\n",
        "# remover espaços em brancos\n",
        "print(curso.strip())\n",
        "# remover espaço apenas da esquerda\n",
        "print(curso.lstrip())\n",
        "# remover espaço apenas da direita\n",
        "print(curso.rstrip())\n",
        "# Fazer junçoes e centralização\n",
        "print(curso.center(10, \"#\"))\n",
        "print(\".\".join(curso))\n"
      ]
    },
    {
      "cell_type": "markdown",
      "source": [
        "## Interpolação de variáveis\n",
        "\n",
        "Em Python temo 3 formas de interpolar variávies em strings, a primeira é usando o sinal %, a segunda é utilizando o método format e a última é utilizando f strings\n",
        "\n",
        "A primeira forma não é atualmente recomendada e seu uso em Python 3 é raro, por esse motivo iremos focar nas 2 últimas"
      ],
      "metadata": {
        "id": "1hVO2Nv5nx7A"
      }
    },
    {
      "cell_type": "code",
      "source": [
        "nome = \"lucas\"\n",
        "idade = 31\n",
        "profissao = \"Programador\"\n",
        "linguagem = \"Python\"\n",
        "\n",
        "# Interpolando uma string com o sinal de % que não é mais recomendada\n",
        "# Old Style %\n",
        "print(\"Olá, me chamo %s. Eu tenho %d anos de idade, trabalho com %s e estou matriculado no curso de %s \" %(nome, idade, profissao, linguagem))\n",
        "\n",
        "# Interpolando com format\n",
        "pessoa = {\n",
        "            \"nome\": \"Lucas\",\n",
        "            \"idade\": 31,\n",
        "            \"profissao\": \"Programador\",\n",
        "            \"linguagem\": \"Python\"\n",
        "          }\n",
        "print(\"Olá, me chamo {}. Eu tenho {} anos de idade, trabalho com {} e estou matriculado no curso de {}.\".format(nome, idade, profissao, linguagem))\n",
        "print(\"Olá, me chamo {0}. Eu tenho {1} anos de idade, trabalho com {2} e estou matriculado no curso de {3}.\".format(nome, idade, profissao, linguagem))\n",
        "print(\"Olá, me chamo {nome}. Eu tenho {idade} anos de idade, trabalho com {profissao} e estou matriculado no curso de {linguagem}.\".format(nome=nome, idade=idade, profissao=profissao, linguagem=linguagem))\n",
        "print(\"Olá, me chamo {nome}. Eu tenho {idade} anos de idade, trabalho com {profissao} e estou matriculado no curso de {linguagem}.\".format(**pessoa))\n",
        "\n",
        "# Interpolando com f strings\n"
      ],
      "metadata": {
        "colab": {
          "base_uri": "https://localhost:8080/"
        },
        "id": "cLU3YqTuoJs4",
        "outputId": "e23fbf3a-33d5-4b5f-b3f3-d8cd6b16df10"
      },
      "execution_count": 20,
      "outputs": [
        {
          "output_type": "stream",
          "name": "stdout",
          "text": [
            "Olá, me chamo lucas. Eu tenho 31 anos de idade, trabalho com Programador e estou matriculado no curso de Python \n",
            "Olá, me chamo lucas. Eu tenho 31 anos de idade, trabalho com Programador e estou matriculado no curso de Python.\n",
            "Olá, me chamo lucas. Eu tenho 31 anos de idade, trabalho com Programador e estou matriculado no curso de Python.\n",
            "Olá, me chamo lucas. Eu tenho 31 anos de idade, trabalho com Programador e estou matriculado no curso de Python.\n",
            "Olá, me chamo Lucas. Eu tenho 31 anos de idade, trabalho com Programador e estou matriculado no curso de Python.\n"
          ]
        }
      ]
    },
    {
      "cell_type": "markdown",
      "source": [
        "### f-strings\n",
        "\n"
      ],
      "metadata": {
        "id": "cCMRvQ6ZsAsh"
      }
    },
    {
      "cell_type": "code",
      "source": [
        "print(f\"Olá, me chamo {nome}. Eu tenho {idade} anos de idade, trabalho como {profissao} e estou matriculado no curso de {linguagem}!\")\n"
      ],
      "metadata": {
        "colab": {
          "base_uri": "https://localhost:8080/"
        },
        "id": "yKexP2CToyT1",
        "outputId": "4b68dd4c-b3b1-4f5f-d22c-0d0bb75da9d4"
      },
      "execution_count": 10,
      "outputs": [
        {
          "output_type": "stream",
          "name": "stdout",
          "text": [
            "Olá, me chamo lucas. Eu tenho 31 anos de idade, trabalho como Programador e estou matriculado no curso de Python!\n"
          ]
        }
      ]
    },
    {
      "cell_type": "markdown",
      "source": [
        "#### Formatar strings com f-strings"
      ],
      "metadata": {
        "id": "iqVDFLSXspHM"
      }
    },
    {
      "cell_type": "code",
      "source": [
        "import math\n",
        "PI = math.pi\n",
        "# Valor de PI\n",
        "print(PI)\n",
        "# Arredonda o valor de PI\n",
        "print(f\"Valor de PI: {2 * PI:.2f}\")\n",
        "# Arredonda o valor de Pi e coloca 11 espaços\n",
        "print(f\"Valor de {PI:10.2f}\")"
      ],
      "metadata": {
        "colab": {
          "base_uri": "https://localhost:8080/"
        },
        "id": "y50hzs_Isoth",
        "outputId": "64a572f8-9005-470c-9f9f-e8575acb3fea"
      },
      "execution_count": 19,
      "outputs": [
        {
          "output_type": "stream",
          "name": "stdout",
          "text": [
            "3.141592653589793\n",
            "Valor de PI: 6.28\n",
            "Valor de       3.14\n"
          ]
        }
      ]
    },
    {
      "cell_type": "markdown",
      "source": [
        "## Fatiamento de String\n",
        "\n",
        "Fatiamento de strings é uma técnica utilizada para retornar substrings (partes da string original), informando inicio(start), fim(stop) e passo (step): [start, stop, step]"
      ],
      "metadata": {
        "id": "bP2BAqTEwyuY"
      }
    },
    {
      "cell_type": "code",
      "source": [
        "nome = \"Lucas de Souza Santos\"\n",
        "\n",
        "# Pegando o primeiro caracteres\n",
        "print(nome[0])\n",
        "# Passando só o stop e o start será zero\n",
        "print(nome[:9])\n",
        "# Passando o start e o stop será o último caracteres\n",
        "print(nome[10:])\n",
        "# Passando o start e stop\n",
        "print(nome[10:16])\n",
        "# Passando o start, stop e step\n",
        "print(nome[10:16:2])\n",
        "# Retornar uma copia da string\n",
        "print(nome[:])\n",
        "# Fazendo o espelhamento da string\n",
        "print(nome[::-1])"
      ],
      "metadata": {
        "colab": {
          "base_uri": "https://localhost:8080/"
        },
        "id": "VfDWcwyUxgXV",
        "outputId": "2a1e830b-c404-4d56-c3ae-a58ef2e120d4"
      },
      "execution_count": 21,
      "outputs": [
        {
          "output_type": "stream",
          "name": "stdout",
          "text": [
            "L\n",
            "Lucas de \n",
            "ouza Santos\n",
            "ouza S\n",
            "oz \n",
            "Lucas de Souza Santos\n",
            "sotnaS azuoS ed sacuL\n"
          ]
        }
      ]
    },
    {
      "cell_type": "markdown",
      "source": [
        "## String multiplas linhas\n",
        "\n",
        "Strings de múltiplas linhas são definidas informando 3 aspas simples ou duplas durante a atribuição. Elas podem ocupar várias linhas do código, e todos os espaços em branco são incluídos na string final."
      ],
      "metadata": {
        "id": "7B2RaNVFy1Zi"
      }
    },
    {
      "cell_type": "code",
      "source": [
        "string = \"\"\"\n",
        "Strings de múltiplas linhas são definidas informando 3 aspas simples\n",
        "ou duplas durante a atribuição. Elas podem ocupar várias linhas do\n",
        "código, e todos os espaços em branco são incluídos na string final.\n",
        "\"\"\"\n",
        "\n",
        "print(string)"
      ],
      "metadata": {
        "colab": {
          "base_uri": "https://localhost:8080/"
        },
        "id": "6hl0jR_FzIZX",
        "outputId": "8e054ce4-2f63-4c16-ee0e-ddb1de17fad1"
      },
      "execution_count": 23,
      "outputs": [
        {
          "output_type": "stream",
          "name": "stdout",
          "text": [
            "\n",
            "Strings de múltiplas linhas são definidas informando 3 aspas simples\n",
            "ou duplas durante a atribuição. Elas podem ocupar várias linhas do\n",
            "código, e todos os espaços em branco são incluídos na string final.\n",
            "\n"
          ]
        }
      ]
    },
    {
      "cell_type": "code",
      "source": [
        "N = int(input())\n",
        "\n",
        "for num in range(N):\n",
        "  entrada = input()\n",
        "  valores = entrada.split(\" \")\n",
        "  A = valores[0]\n",
        "  B = valores[1]\n",
        "  tamanhoA = len(A)\n",
        "  tamanhoB = len(B)\n",
        "\n",
        "  if tamanhoA >= tamanhoB:\n",
        "    if A[tamanhoA - tamanhoB:] == B:\n",
        "      print(\"encaixa\")\n",
        "    else:\n",
        "      print(\"nao encaixa\")\n",
        "  else:\n",
        "    print(\"nao encaixa\")\n"
      ],
      "metadata": {
        "colab": {
          "base_uri": "https://localhost:8080/"
        },
        "id": "F0E4xiPJ3aCB",
        "outputId": "8901acc5-ce5e-4560-9e0c-59f9f7cd92d4"
      },
      "execution_count": 31,
      "outputs": [
        {
          "output_type": "stream",
          "name": "stdout",
          "text": [
            "4\n",
            "56234523485723854755454545478690 78690\n",
            "encaixa\n",
            "5434554 543\n",
            "nao encaixa\n",
            "1243 1243\n",
            "encaixa\n",
            "54 64545454545454545454545454545454554\n",
            "nao encaixa\n"
          ]
        }
      ]
    }
  ]
}