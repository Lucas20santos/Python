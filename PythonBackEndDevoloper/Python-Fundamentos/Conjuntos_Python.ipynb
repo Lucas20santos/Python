{
  "nbformat": 4,
  "nbformat_minor": 0,
  "metadata": {
    "colab": {
      "provenance": [],
      "authorship_tag": "ABX9TyOhxXc44aRoxGWsCrIC8gih",
      "include_colab_link": true
    },
    "kernelspec": {
      "name": "python3",
      "display_name": "Python 3"
    },
    "language_info": {
      "name": "python"
    }
  },
  "cells": [
    {
      "cell_type": "markdown",
      "metadata": {
        "id": "view-in-github",
        "colab_type": "text"
      },
      "source": [
        "<a href=\"https://colab.research.google.com/github/Lucas20santos/Python/blob/master/Conjuntos_Python.ipynb\" target=\"_parent\"><img src=\"https://colab.research.google.com/assets/colab-badge.svg\" alt=\"Open In Colab\"/></a>"
      ]
    },
    {
      "cell_type": "markdown",
      "source": [
        "# Conjuntos\n",
        "\n",
        "## Como criar conjuntos\n",
        "\n",
        "### Criando sets\n",
        "\n",
        "Um set é uma coleção que não possui objetos repetidos, usamos sets para represetnar conjuntos matemáticos ou eliminar itens duplicados de um iterável.\n",
        "\n",
        "- O set ou conjunto não preserva a ordem dos elemetos que é passado para ele.\n",
        "- O construtor do set espera um iterável"
      ],
      "metadata": {
        "id": "lhiiuhp6SZ25"
      }
    },
    {
      "cell_type": "code",
      "execution_count": null,
      "metadata": {
        "colab": {
          "base_uri": "https://localhost:8080/"
        },
        "id": "yrq0_3cISRoH",
        "outputId": "8ce7ed8a-ac66-4c39-c752-0baa646d6ce8"
      },
      "outputs": [
        {
          "output_type": "stream",
          "name": "stdout",
          "text": [
            "{1, 2, 3, 4}\n",
            "{'x', 'i', 'a', 'c', 'b'}\n",
            "{'celta', 'palio', 'gol'}\n"
          ]
        }
      ],
      "source": [
        "lista = set([1, 2, 3, 2, 3, 4])\n",
        "print(lista)\n",
        "\n",
        "frutas = set(\"abacaxi\")\n",
        "print(frutas)\n",
        "\n",
        "carros = set((\"palio\", \"gol\", \"celta\", \"palio\"))\n",
        "print(carros)\n"
      ]
    },
    {
      "cell_type": "markdown",
      "source": [
        "### Acessando os dados\n",
        "\n",
        "Conjuntos em Python não suportam idexação e nem fatiamento, caso queria acessar os seus valores é necessário converter o conjunto para lista."
      ],
      "metadata": {
        "id": "SEFFVmy5Ub63"
      }
    },
    {
      "cell_type": "code",
      "source": [
        "print(lista)\n",
        "\n",
        "lista1 = list(lista)\n",
        "lista1"
      ],
      "metadata": {
        "colab": {
          "base_uri": "https://localhost:8080/"
        },
        "id": "ugTa2geVUmfN",
        "outputId": "d2204651-87ce-484b-97f2-e4d783fedc3c"
      },
      "execution_count": null,
      "outputs": [
        {
          "output_type": "stream",
          "name": "stdout",
          "text": [
            "{1, 2, 3, 4}\n"
          ]
        },
        {
          "output_type": "execute_result",
          "data": {
            "text/plain": [
              "[1, 2, 3, 4]"
            ]
          },
          "metadata": {},
          "execution_count": 11
        }
      ]
    },
    {
      "cell_type": "markdown",
      "source": [
        "### Iterar conjuntos\n",
        "\n",
        "A forma mais comum para percorrer os dados de um conjunto é utilizando o comando **for**."
      ],
      "metadata": {
        "id": "X1CUlaYMVIVH"
      }
    },
    {
      "cell_type": "code",
      "source": [
        "for x in frutas:\n",
        "  print(x, end=\" \")"
      ],
      "metadata": {
        "colab": {
          "base_uri": "https://localhost:8080/"
        },
        "id": "C7qOHrIpVP4K",
        "outputId": "a7c942fd-a742-44f0-c1ee-36dba0dc485e"
      },
      "execution_count": null,
      "outputs": [
        {
          "output_type": "stream",
          "name": "stdout",
          "text": [
            "x i a c b "
          ]
        }
      ]
    },
    {
      "cell_type": "markdown",
      "source": [
        "### Função enumerate\n",
        "\n",
        "As vezes é necessário saber qual o índice do objeto dentro do laço **for**. Para isso podemos usar a função **enumarate**"
      ],
      "metadata": {
        "id": "DPcKa8YsVW0c"
      }
    },
    {
      "cell_type": "code",
      "source": [
        "for pos, val in enumerate(carros):\n",
        "  print(pos, val)"
      ],
      "metadata": {
        "colab": {
          "base_uri": "https://localhost:8080/"
        },
        "id": "rxHPHJgaVkou",
        "outputId": "67feddcb-f9ba-4ad6-9345-a37c2502d985"
      },
      "execution_count": null,
      "outputs": [
        {
          "output_type": "stream",
          "name": "stdout",
          "text": [
            "0 celta\n",
            "1 palio\n",
            "2 gol\n"
          ]
        }
      ]
    },
    {
      "cell_type": "markdown",
      "source": [
        "## Métodos da classe set\n",
        "\n"
      ],
      "metadata": {
        "id": "hu6WdZ4DVw1E"
      }
    },
    {
      "cell_type": "code",
      "source": [
        "conjunto_a = {1, 2, 3}\n",
        "conjunto_b = {2, 3, 4}\n",
        "\n",
        "## Unir\n",
        "print(conjunto_a.union(conjunto_b))\n",
        "\n",
        "# Intersection\n",
        "print(conjunto_a.intersection(conjunto_b))\n",
        "\n",
        "# Diferença\n",
        "print(conjunto_a.difference(conjunto_b))\n",
        "print(conjunto_b.difference(conjunto_a))\n",
        "\n",
        "# Diferenca simetrica\n",
        "print(conjunto_a.symmetric_difference(conjunto_b))\n",
        "\n",
        "# contido\n",
        "print(conjunto_a.issubset(conjunto_b))\n",
        "print(conjunto_b.issubset(conjunto_a))\n",
        "\n",
        "# contem\n",
        "print(conjunto_a.issuperset(conjunto_b))\n",
        "print(conjunto_b.issuperset(conjunto_a))\n",
        "\n",
        "# conjuntos independetes\n",
        "print(conjunto_a.isdisjoint(conjunto_b))\n",
        "print(conjunto_b.isdisjoint(conjunto_a))\n"
      ],
      "metadata": {
        "colab": {
          "base_uri": "https://localhost:8080/"
        },
        "id": "4VJrRGx2WB8M",
        "outputId": "0e1f5a45-f0b1-4f68-ae6c-523fee8ce1ad"
      },
      "execution_count": null,
      "outputs": [
        {
          "output_type": "stream",
          "name": "stdout",
          "text": [
            "{1, 2, 3, 4}\n",
            "{2, 3}\n",
            "{1}\n",
            "{4}\n",
            "{1, 4}\n",
            "False\n",
            "False\n",
            "False\n",
            "False\n",
            "False\n",
            "False\n"
          ]
        }
      ]
    },
    {
      "cell_type": "code",
      "source": [
        "sorteio = {1, 23}\n",
        "sorteio.add(25)\n",
        "\n",
        "print(sorteio)\n",
        "\n",
        "sorteio1 = sorteio.copy()\n",
        "print(sorteio1)\n",
        "\n",
        "sorteio.discard(1)\n",
        "print(sorteio)\n",
        "print(sorteio.pop())\n",
        "print(sorteio.remove(23))\n",
        "\n"
      ],
      "metadata": {
        "colab": {
          "base_uri": "https://localhost:8080/"
        },
        "id": "KN2dp_02X0n9",
        "outputId": "8728e3a0-9027-476e-dc2e-65fc404291a9"
      },
      "execution_count": null,
      "outputs": [
        {
          "output_type": "stream",
          "name": "stdout",
          "text": [
            "{1, 25, 23}\n",
            "{1, 25, 23}\n",
            "{25, 23}\n",
            "25\n",
            "None\n"
          ]
        }
      ]
    }
  ]
}