{
  "cells": [
    {
      "cell_type": "markdown",
      "metadata": {
        "colab_type": "text",
        "id": "view-in-github"
      },
      "source": [
        "<a href=\"https://colab.research.google.com/github/Lucas20santos/Python/blob/master/Introducao_POO_Python.ipynb\" target=\"_parent\"><img src=\"https://colab.research.google.com/assets/colab-badge.svg\" alt=\"Open In Colab\"/></a>"
      ]
    },
    {
      "cell_type": "markdown",
      "metadata": {
        "id": "Ps4GNE0d4nPB"
      },
      "source": [
        "# Progromação orientada a Objetos (POO)\n",
        "\n",
        "## Paradigmas de Programação\n",
        "\n",
        "Um paradigma de programação é um estilo e programação. Não é uma linguagem (Python, Java, C, etc), e sim a forma como você soluciona os problemas através do código.\n",
        "\n",
        "### Exemplo\n",
        "\n",
        "**Problema**: Beber água\n",
        "\n",
        "**Solução 1**: Usar um copo para beber água\n",
        "\n",
        "**Solução 2**: Usar uma garrafa para beber água.\n",
        "\n",
        "## Alguns paradigmas\n",
        "\n",
        "- Imperativo ou procedural\n",
        "- Funcional\n",
        "- Orientado a eventos\n",
        "\n",
        "## Programação orientada a objetos\n",
        "\n",
        "O paradigma de progrmação orientada a objetos estrutura o código abstraindo problemas em objetos do mundo real, facilitando o entendimento do código e tornando-o mais modular e extensível. Os dois conceitos chaves para aprender POO são **classes e objetos**.\n",
        "\n",
        "## Classes e objetos\n",
        "\n",
        "### Conceitos de classes e objetos\n",
        "\n",
        "#### Classes e objetos ?\n",
        "\n",
        "Uma classe define as características e comportamentos de um objeto, porém não conseguimos usá-las diretamente. Já os objetos podemos usá-los e eles possuem as características e comportamentos que foram definidos nas classes."
      ]
    },
    {
      "cell_type": "code",
      "execution_count": 12,
      "metadata": {
        "colab": {
          "base_uri": "https://localhost:8080/"
        },
        "id": "CsRFw2dBBNb-",
        "outputId": "74d3b131-1c98-4e0d-95b6-0741d1822051"
      },
      "outputs": [
        {
          "name": "stdout",
          "output_type": "stream",
          "text": [
            "Zzzzz...\n"
          ]
        }
      ],
      "source": [
        "# Classe\n",
        "class Cachorro:\n",
        "  def __init__(self, nome, cor, acordado=True) -> None:\n",
        "    self.nome: str = nome\n",
        "    self.cor: str = cor\n",
        "    self.acordado: bool = acordado\n",
        "\n",
        "  def latir(self) -> None:\n",
        "    \"\"\"Esse método não tem nenhum retorno, \n",
        "    ela só imprime uma mensagem na tela.\n",
        "    \"\"\"\n",
        "    print(\"Auau\")\n",
        "\n",
        "  def dormir(self):\n",
        "    self.acordado = False\n",
        "    print(\"Zzzzz...\")\n",
        "  \n",
        "  # retorna uma string bem formatada.\n",
        "  def __str__(self):\n",
        "    return f\"{self.__class__.__name__}: {', '.join([f'{chave}: {valor}' for chave, valor in self.__dict__.items()])}\"\n",
        "\n",
        "\n",
        "# Objeto ou instancias da classe Carrocho.\n",
        "cao_1 = Cachorro(\"chappie\", \"amarelo\", False)\n",
        "cao_2 = Cachorro(\"Aladin\", \"branco e preto\")\n",
        "\n",
        "# cao_1.latir()\n",
        "\n",
        "# print(cao_2.acordado)\n",
        "# cao_2.dormir()\n",
        "# print(cao_2.acordado)\n",
        "# print(cao_1)\n",
        "# print(cao_2)\n",
        "\n",
        "Cachorro.dormir(cao_1)\n"
      ]
    },
    {
      "cell_type": "markdown",
      "metadata": {
        "id": "bHx1s4pvNRzF"
      },
      "source": [
        "## Nosso primeiro programa POO\n",
        "\n",
        "João tem uma bicicleta e gostaria de registrar as vendas de suas bicicletas. Crie um programa onde João informe: cor, modelo, ano e valor da bicicleta vendida. Uma bicicleta pode: buzinar, parar e correr. Adicione esses comportamentos!\n",
        "\n",
        "## paramatro Self\n",
        "\n",
        "O self é uma referência explicita das classes **Python** para o objeto criado ou instânciado."
      ]
    },
    {
      "cell_type": "code",
      "execution_count": null,
      "metadata": {
        "colab": {
          "base_uri": "https://localhost:8080/"
        },
        "id": "UZ4l1NaXNPjE",
        "outputId": "e929e337-2868-4d4e-b24e-667fcfe6092c"
      },
      "outputs": [
        {
          "name": "stdout",
          "output_type": "stream",
          "text": [
            "Bicicleta: cor = Azul, modelo = Carga, ano = 2016, valor = 1000, buzinando = False, parado = True, correndo = False\n"
          ]
        }
      ],
      "source": [
        "class Bicicleta(object):\n",
        "  \"\"\"\n",
        "  Class Bicicleta usada para instânciar objetos bicicletas.\n",
        "  \"\"\"\n",
        "  def __init__(self, cor: str, modelo: str, ano: int, valor: float) -> None:\n",
        "    \"\"\"\n",
        "    :param cor uma string contendo a cor da bicicleta\n",
        "    :param modelo um string contendo o modelo da bicicleta\n",
        "    :param ano um inteiro passando o ano\n",
        "    :param um valor decimal\n",
        "    :Return não retorna nenhum valor\n",
        "    \"\"\"\n",
        "    self.cor: str = cor\n",
        "    self.modelo: str = modelo\n",
        "    self.ano: str = ano\n",
        "    self.valor: float = valor\n",
        "    self.buzinando = False\n",
        "    self.parado = True\n",
        "    self.correndo = False\n",
        "\n",
        "  def getCor(self) -> str:\n",
        "    return self.cor\n",
        "\n",
        "  def setCor(self, cor) -> None:\n",
        "    self.cor = cor\n",
        "\n",
        "  def getModelo(self) -> str:\n",
        "    return self.modelo\n",
        "\n",
        "  def setModelo(self, modelo) -> None:\n",
        "    self.modelo = modelo\n",
        "\n",
        "  def getBuzinar(self):\n",
        "    return self.buzinando\n",
        "\n",
        "  def setBuzinar(self, buzinar):\n",
        "    self.buzinando = buzinar\n",
        "\n",
        "  def getParado(self) -> bool:\n",
        "    return self.parado\n",
        "\n",
        "  def setParado(self, parado) -> None:\n",
        "    self.parado = parado\n",
        "\n",
        "  def getCorrendo(self) -> bool:\n",
        "    return self.correndo\n",
        "\n",
        "  def setCorrendo(self, correndo) -> None:\n",
        "    self.correndo = correndo\n",
        "\n",
        "  # def __str__(self) -> None:\n",
        "  #   return f\"Cor: {self.cor}\\nModelo: {self.modelo}\\nAno: {self.ano}\\nValor: {self.valor}\\nBuzinando: {self.buzinando}\\nParada: {self.parado}\\nCorrendo: {self.correndo}\"\n",
        "\n",
        "  def __str__(self) -> str:\n",
        "    # self pega a instância da classe\n",
        "    # __class__ pega a classe\n",
        "    # __name__ pega o nome da classe\n",
        "    # self.__class__.__name__ pega o nome da classe que está ligada com a instância\n",
        "    return f\"{self.__class__.__name__}: {', '.join([f'{chave} = {valor}' for chave, valor in self.__dict__.items()])}\"\n",
        "\n",
        "bc1 = Bicicleta(\"Azul\", \"Carga\", 2016, 1000)\n",
        "print(bc1)"
      ]
    },
    {
      "cell_type": "markdown",
      "metadata": {
        "id": "mbBU3BSnVe12"
      },
      "source": [
        "## Construtores e destrutores\n",
        "\n",
        "### Método construtor\n",
        "\n",
        "O método construtor sempre é executado quando uma nova instância da classe é criada. Nesse método inicializamos o estado do nosso objeto. Para declarar o método inicializamos o estado do nosso objeto. Para declarar o método construtor da classe, criamos um método com o nome **\\_\\_init\\_\\_**.\n",
        "\n",
        "\n"
      ]
    },
    {
      "cell_type": "code",
      "execution_count": 3,
      "metadata": {
        "colab": {
          "base_uri": "https://localhost:8080/"
        },
        "id": "ej_awkJJbaTy",
        "outputId": "d39875a3-0af0-4457-aa9c-bf2646a23259"
      },
      "outputs": [
        {
          "name": "stdout",
          "output_type": "stream",
          "text": [
            "Inicio\n",
            "Construindo a instancia\n",
            "Status\n",
            "Cachorro: \n"
          ]
        }
      ],
      "source": [
        "class Cachorro:\n",
        "  print(\"Inicio\")\n",
        "  def __init__(self) -> None:\n",
        "    print(\"Construindo a instancia\")\n",
        "\n",
        "  def status(self):\n",
        "    print(\"Status\")\n",
        "\n",
        "  def __str__(self) -> str:\n",
        "    return f\"{self.__class__.__name__}: {', '.join([f'{chave} = {valor}' for chave, valor in self.__dict__.items()])}\"\n",
        "\n",
        "c1 = Cachorro()\n",
        "c1.status()\n",
        "print(c1)\n"
      ]
    },
    {
      "cell_type": "markdown",
      "metadata": {
        "id": "yf3_FsLGbs8X"
      },
      "source": [
        "### Método destrutor\n",
        "\n",
        "O método destrutor sempre é executado quando uma instância(objeto) é destruída. Destrutores em Python não são tão necessários quando em C++ porque o Python tem um coletor de lixo que lida com o gerenciamento de memória automaticamente. Para declarar o método destrutor da classe, criamos um método com o nome **\\_\\_del\\_\\_**."
      ]
    },
    {
      "cell_type": "code",
      "execution_count": 4,
      "metadata": {
        "colab": {
          "base_uri": "https://localhost:8080/"
        },
        "id": "mk7qsyaycqy6",
        "outputId": "aa523f1e-6eea-4cc7-af56-429b09569935"
      },
      "outputs": [
        {
          "name": "stdout",
          "output_type": "stream",
          "text": [
            "Inicio\n",
            "Construindo a instancia\n",
            "Status\n",
            "Destruindo a instancia\n"
          ]
        }
      ],
      "source": [
        "class Cachorro:\n",
        "  print(\"Inicio\")\n",
        "  def __init__(self) -> None:\n",
        "    print(\"Construindo a instancia\")\n",
        "\n",
        "  def __del__(self):\n",
        "    print(\"Destruindo a instancia\")\n",
        "\n",
        "  def status(self):\n",
        "    print(\"Status\")\n",
        "\n",
        "\n",
        "c1 = Cachorro()\n",
        "c1.status()\n",
        "del c1"
      ]
    }
  ],
  "metadata": {
    "colab": {
      "authorship_tag": "ABX9TyN+2MB3GMip6KwWDIBbWApb",
      "include_colab_link": true,
      "provenance": []
    },
    "kernelspec": {
      "display_name": "Python 3",
      "name": "python3"
    },
    "language_info": {
      "codemirror_mode": {
        "name": "ipython",
        "version": 3
      },
      "file_extension": ".py",
      "mimetype": "text/x-python",
      "name": "python",
      "nbconvert_exporter": "python",
      "pygments_lexer": "ipython3",
      "version": "3.12.1"
    }
  },
  "nbformat": 4,
  "nbformat_minor": 0
}
