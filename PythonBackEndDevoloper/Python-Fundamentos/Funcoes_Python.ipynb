{
  "nbformat": 4,
  "nbformat_minor": 0,
  "metadata": {
    "colab": {
      "provenance": [],
      "authorship_tag": "ABX9TyOldmiei/kXGjTQaBwJQdR6",
      "include_colab_link": true
    },
    "kernelspec": {
      "name": "python3",
      "display_name": "Python 3"
    },
    "language_info": {
      "name": "python"
    }
  },
  "cells": [
    {
      "cell_type": "markdown",
      "metadata": {
        "id": "view-in-github",
        "colab_type": "text"
      },
      "source": [
        "<a href=\"https://colab.research.google.com/github/Lucas20santos/Python/blob/master/Funcoes_Python.ipynb\" target=\"_parent\"><img src=\"https://colab.research.google.com/assets/colab-badge.svg\" alt=\"Open In Colab\"/></a>"
      ]
    },
    {
      "cell_type": "markdown",
      "source": [
        "# Funções em python\n",
        "\n",
        "## Funções - Parte 01: Estudo aprofundados sobre funções\n",
        "\n",
        "### O que são funções ?\n",
        "\n",
        "Função é um bloco de código identificaod por um nome e pode receber uma lista de parâmetros, esses parâmetros podem ou não ter valores padrões. Usar funções torna o código mais legível e possibilita o reaproveitamento de código. Programar baseado em funções, é o mesmo que dizer que estamos programando de maneira estruturada.\n"
      ],
      "metadata": {
        "id": "5_ic0evOn3Nq"
      }
    },
    {
      "cell_type": "code",
      "execution_count": 3,
      "metadata": {
        "colab": {
          "base_uri": "https://localhost:8080/"
        },
        "id": "_teZd3jun1uW",
        "outputId": "80e3b11e-90c5-4d51-c4bf-2c98c7e745df"
      },
      "outputs": [
        {
          "output_type": "stream",
          "name": "stdout",
          "text": [
            "Hello, World!\n",
            "Seja bem vindo: lucas.\n",
            "Seja bem vindo Anonimo!\n"
          ]
        }
      ],
      "source": [
        "def exibir_mensagem():\n",
        "  print(\"Hello, World!\")\n",
        "\n",
        "\n",
        "def exibir_mensagem_2(nome: str):\n",
        "  print(f\"Seja bem vindo: {nome}.\")\n",
        "\n",
        "def exibir_mensagem_3(nome: str = \"Anonimo\"):\n",
        "  print(f\"Seja bem vindo {nome}!\")\n",
        "\n",
        "\n",
        "if __name__ == \"__main__\":\n",
        "  exibir_mensagem()\n",
        "  exibir_mensagem_2(\"lucas\")\n",
        "  exibir_mensagem_3()\n"
      ]
    },
    {
      "cell_type": "markdown",
      "source": [
        "### Retornando valores\n",
        "\n",
        "Para retornar um valor, utilizamos a palavra reservada **return**. Toda função Python retorna **None** por padrão. Diferente de outras linguagens de programação, em Python uma função pode retornar mais de um valor."
      ],
      "metadata": {
        "id": "Eig7FNyOr0FI"
      }
    },
    {
      "cell_type": "code",
      "source": [
        "def calcular_total(numeros:list = [0]):\n",
        "  return sum(numeros)\n",
        "\n",
        "def retorna_antecessor_e_sucessor(numero: int = 0):\n",
        "  antecessor = numero - 1\n",
        "  sucessor = numero + 1\n",
        "\n",
        "  return antecessor, sucessor\n",
        "\n",
        "def func_3() -> None:\n",
        "  print(\"Olá, mundo!\")\n",
        "\n",
        "\n",
        "print(calcular_total([1, 29, 34, 2]))\n",
        "print(retorna_antecessor_e_sucessor(45))\n",
        "print(func_3())\n"
      ],
      "metadata": {
        "colab": {
          "base_uri": "https://localhost:8080/"
        },
        "id": "IgBdY_KysLvc",
        "outputId": "cb606e5e-3e64-46fe-8928-47f76befa52a"
      },
      "execution_count": 6,
      "outputs": [
        {
          "output_type": "stream",
          "name": "stdout",
          "text": [
            "66\n",
            "(44, 46)\n",
            "Olá, mundo!\n",
            "None\n"
          ]
        }
      ]
    },
    {
      "cell_type": "markdown",
      "source": [
        "### Argumentos nomeados\n",
        "\n",
        "Funções também podem ser chamadas usando argumentos nomeados da forma chave = valor."
      ],
      "metadata": {
        "id": "GXZ_Rw0ftbqx"
      }
    },
    {
      "cell_type": "code",
      "source": [
        "def salvar_carro(marca, modelo, ano, placa):\n",
        "  print(f\"Carro inserido com sucesso! {marca} - {modelo} - {ano} - {placa}\")\n",
        "\n",
        "salvar_carro(\"Fiat\", \"Palio\", 1999, \"ABC-1234\")\n",
        "salvar_carro(marca=\"Fiat\", modelo=\"Palio\", ano=1999, placa=\"ABC-1234\")\n",
        "salvar_carro(**{\"marca\":\"Fiat\", \"modelo\": \"Palio\",\"ano\":1999, \"placa\": \"ABC-1234\"})\n",
        ""
      ],
      "metadata": {
        "colab": {
          "base_uri": "https://localhost:8080/"
        },
        "id": "aQh78HXwtklK",
        "outputId": "2b0d9102-fef2-4a1d-b352-df8b10b062c0"
      },
      "execution_count": 8,
      "outputs": [
        {
          "output_type": "stream",
          "name": "stdout",
          "text": [
            "Carro inserido com sucesso! Fiat - Palio - 1999 - ABC-1234\n",
            "Carro inserido com sucesso! Fiat - Palio - 1999 - ABC-1234\n",
            "Carro inserido com sucesso! Fiat - Palio - 1999 - ABC-1234\n"
          ]
        }
      ]
    },
    {
      "cell_type": "markdown",
      "source": [
        "### Args e Kwargs\n",
        "\n",
        "Podemos combinar parâmetros obrigatórios com args e kwargs. Quanto esses são definidos(\\*args e \\**kwargs), 0 método recebe os valores como tupla e dicionário respectivamente."
      ],
      "metadata": {
        "id": "QXHoCfI_1ltZ"
      }
    },
    {
      "cell_type": "code",
      "source": [
        "def exibir_poema(data_extenso, *args, **kwargs):\n",
        "  texto = \"\\n\".join(args)\n",
        "  meta_dados = \"\\n\".join([f\"{chave.title()}: {valor}\" for chave, valor in kwargs.items()])\n",
        "  mensagem = f\"{data_extenso} \\n\\n{texto}\\n\\n{meta_dados}\"\n",
        "  print(mensagem)\n",
        "\n",
        "exibir_poema(\"Quinta-Feira, 05 de janeiro de 2024\", \"Zen of Python\", \"Beautiful is better than ugly.\", auto=\"Time Peters\", ano=1999)\n"
      ],
      "metadata": {
        "colab": {
          "base_uri": "https://localhost:8080/"
        },
        "id": "KYBI5gtN2AQC",
        "outputId": "ca86c7f8-c73d-4981-d02f-4a1692da40a7"
      },
      "execution_count": 10,
      "outputs": [
        {
          "output_type": "stream",
          "name": "stdout",
          "text": [
            "Quinta-Feira, 05 de janeiro de 2024 \n",
            "\n",
            "Zen of Python\n",
            "Beautiful is better than ugly.\n",
            "\n",
            "Auto: Time Peters\n",
            "Ano: 1999\n"
          ]
        }
      ]
    },
    {
      "cell_type": "markdown",
      "source": [
        "## Funções - Parte 02: Estudo aprofundados sobre funções\n",
        "\n",
        "### Parâmetros especiais\n",
        "\n",
        "Por padrão, argumentos podem ser passados para uma função Python tanto por posição quanto explicitamente pelo nome. Para uma melhor legibilidade e desempenho, faz sentido restringir a maneira pelo qual argumentos passam ser passados, assim um desenvolvedor precisa apenas olhar para a definição da função para determinar se os itens são passados por posição, por posição e nome ou por nome."
      ],
      "metadata": {
        "id": "8-yrePOZ5Cj3"
      }
    },
    {
      "cell_type": "code",
      "source": [
        "def criar_carro(modelo, ano, placa, /, marca, motor, combustivel):\n",
        "  print(modelo, ano, placa, marca, motor, combustivel)\n",
        "\n",
        "def criar_carro2(*, modelo, ano, placa, marca, motor, combustivel):\n",
        "  print(modelo, ano, placa, marca, motor, combustivel)\n",
        "\n",
        "def criar_carro3(modelo, ano, placa, /, marca, *, motor, combustivel):\n",
        "  print(modelo, ano, placa, marca, motor, combustivel)\n",
        "\n",
        "criar_carro(\"Palio\", 1999, \"ABC-1234\", marca=\"Fiat\", motor=\"1.0\", combustivel=\"Gasolina\")\n",
        "\n",
        "criar_carro2(modelo=\"Palio\", ano=1999, placa=\"ABC-1234\", marca=\"Fiat\", motor=\"1.0\", combustivel=\"Gasolina\")\n",
        "\n",
        "criar_carro3(\"Palio\", 1999, \"ABC-1234\", marca=\"Fiat\", motor=\"1.0\", combustivel=\"Gasolina\")\n",
        "criar_carro3(\"Palio\", 1999, \"ABC-1234\", \"Fiat\", motor=\"1.0\", combustivel=\"Gasolina\")"
      ],
      "metadata": {
        "colab": {
          "base_uri": "https://localhost:8080/"
        },
        "id": "A5r-bJ0D5dYO",
        "outputId": "293ee42d-5c32-42dc-9555-241780a05de4"
      },
      "execution_count": 13,
      "outputs": [
        {
          "output_type": "stream",
          "name": "stdout",
          "text": [
            "Palio 1999 ABC-1234 Fiat 1.0 Gasolina\n",
            "Palio 1999 ABC-1234 Fiat 1.0 Gasolina\n",
            "Palio 1999 ABC-1234 Fiat 1.0 Gasolina\n",
            "Palio 1999 ABC-1234 Fiat 1.0 Gasolina\n"
          ]
        }
      ]
    },
    {
      "cell_type": "markdown",
      "source": [
        "### Objetos de primeira classe\n",
        "\n",
        "Em Python tudo é objeto, dessa forma **funções também são objetos** o que as tornan objetos de primeira classe. Com isso podemos **atribuir funções a variáveis, passá-las como parâmetros para funções, usá-las como valores em estruturas de dados** (listas, tuplas, dicionários, etc) e usar como valor de retorno para uma função (closures)."
      ],
      "metadata": {
        "id": "aJQYR6I-_gmv"
      }
    },
    {
      "cell_type": "code",
      "source": [
        "def soma(a, b):\n",
        "  return a + b\n",
        "\n",
        "def subtrair(a, b):\n",
        "  return a - b\n",
        "\n",
        "def exibir_resultado(a, b,operacao, funcao):\n",
        "  resultado = funcao(a, b)\n",
        "  print(f\"O resultado da operação {a} {operacao} {b} = {resultado}\")\n",
        "\n",
        "exibir_resultado(10, 20, \"+\", soma)\n",
        "exibir_resultado(30, 10, \"-\", subtrair)\n",
        "\n",
        "def multiplicar(a, b):\n",
        "  return a * b\n"
      ],
      "metadata": {
        "colab": {
          "base_uri": "https://localhost:8080/"
        },
        "id": "jzYnkNhIABT5",
        "outputId": "694f090f-849c-403e-8fb8-a982c43d3e13"
      },
      "execution_count": 16,
      "outputs": [
        {
          "output_type": "stream",
          "name": "stdout",
          "text": [
            "O resultado da operação 10 + 20 = 30\n",
            "O resultado da operação 30 + 10 = 20\n"
          ]
        }
      ]
    },
    {
      "cell_type": "markdown",
      "source": [
        "### Escopo local e escopo global\n",
        "\n",
        "Python trabalha com escopo local e global, dentro do bloco da funçaõ o escopo é local. Portanto alterações ali feitas em objetos imutáveis serão perdidas quando o método terminar de ser executado. Para usar objetos globais utilizarmos a palavra-chave **global**, que informa ao interpretador que a variável que está sendo manipulada no escopo local é global. Essa **NÃO é uma boa prática e deve ser evitada.**"
      ],
      "metadata": {
        "id": "ZLf90wTXBtWq"
      }
    },
    {
      "cell_type": "markdown",
      "source": [
        "#### Exemplo 1\n",
        "\n",
        "O valor de \"a\" recebe o escopo global dentro da função."
      ],
      "metadata": {
        "id": "nK2v5L2DEqp7"
      }
    },
    {
      "cell_type": "code",
      "source": [
        "a = 20\n",
        "print(a)\n",
        "def imprimir():\n",
        "  print(a)\n",
        "\n",
        "imprimir()\n",
        "print(a)"
      ],
      "metadata": {
        "colab": {
          "base_uri": "https://localhost:8080/"
        },
        "id": "17f1qWq-CRg_",
        "outputId": "04c68aae-2857-4ea6-cfd0-db2d42bb0b8e"
      },
      "execution_count": 25,
      "outputs": [
        {
          "output_type": "stream",
          "name": "stdout",
          "text": [
            "20\n",
            "30\n",
            "30\n"
          ]
        }
      ]
    },
    {
      "cell_type": "markdown",
      "source": [
        "#### Exemplo 2\n",
        "\n",
        "O valor de \"a\" recebe o valor do escopo local dentro da função."
      ],
      "metadata": {
        "id": "AYk8x2pAEyS2"
      }
    },
    {
      "cell_type": "code",
      "source": [
        "a = 20\n",
        "print(a)\n",
        "def imprimir():\n",
        "  a = 10\n",
        "  print(a)\n",
        "\n",
        "imprimir()\n",
        "print(a)"
      ],
      "metadata": {
        "colab": {
          "base_uri": "https://localhost:8080/"
        },
        "id": "l_CxYSTgE0wS",
        "outputId": "72092233-464c-410e-d31f-7a0e4698d095"
      },
      "execution_count": 27,
      "outputs": [
        {
          "output_type": "stream",
          "name": "stdout",
          "text": [
            "20\n",
            "10\n",
            "20\n"
          ]
        }
      ]
    },
    {
      "cell_type": "markdown",
      "source": [
        "#### Exemplo 3\n",
        "\n",
        "O valor de \"a\" recebe o valor do escopo global dentro da função."
      ],
      "metadata": {
        "id": "VKH2v5T4E76a"
      }
    },
    {
      "cell_type": "code",
      "source": [
        "a = 20\n",
        "print(a)\n",
        "def imprimir():\n",
        "  global a\n",
        "  a = 10\n",
        "  print(a)\n",
        "\n",
        "imprimir()\n",
        "print(a)"
      ],
      "metadata": {
        "id": "m8DmrHaRE7QQ"
      },
      "execution_count": null,
      "outputs": []
    }
  ]
}