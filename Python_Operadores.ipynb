{
  "nbformat": 4,
  "nbformat_minor": 0,
  "metadata": {
    "colab": {
      "provenance": [],
      "authorship_tag": "ABX9TyMOJ97KqqMM2ga9bgst1T9g",
      "include_colab_link": true
    },
    "kernelspec": {
      "name": "python3",
      "display_name": "Python 3"
    },
    "language_info": {
      "name": "python"
    }
  },
  "cells": [
    {
      "cell_type": "markdown",
      "metadata": {
        "id": "view-in-github",
        "colab_type": "text"
      },
      "source": [
        "<a href=\"https://colab.research.google.com/github/Lucas20santos/Python/blob/main/Python_Operadores.ipynb\" target=\"_parent\"><img src=\"https://colab.research.google.com/assets/colab-badge.svg\" alt=\"Open In Colab\"/></a>"
      ]
    },
    {
      "cell_type": "markdown",
      "source": [
        "# O que são ?\n",
        "## Os operadores aritméticos executam operações matemáticas, como adição, subtração com operandos."
      ],
      "metadata": {
        "id": "1hkmJeWE5BlI"
      }
    },
    {
      "cell_type": "code",
      "execution_count": null,
      "metadata": {
        "colab": {
          "base_uri": "https://localhost:8080/"
        },
        "id": "JCgDRFFG2bbk",
        "outputId": "370c33e2-84be-4dda-f6f0-61ccdc029007"
      },
      "outputs": [
        {
          "output_type": "stream",
          "name": "stdout",
          "text": [
            "Adiçaõ:  2\n",
            "Subtração:  7\n",
            "Multiplicação:  20\n",
            "Divisão:  4.0\n",
            "Divisção inteira:  4\n",
            "Resto da divisão:  1\n",
            "Potência:  1024\n"
          ]
        }
      ],
      "source": [
        "## Adição\n",
        "print(\"Adiçaõ: \", 1 + 1)\n",
        "\n",
        "## Subtração\n",
        "print(\"Subtração: \", 10 - 3)\n",
        "\n",
        "## Multiplicação\n",
        "print(\"Multiplicação: \", 4 * 5)\n",
        "\n",
        "## Divisão\n",
        "print(\"Divisão: \", 12 / 3)\n",
        "\n",
        "## Divisão inteira\n",
        "print(\"Divisção inteira: \", 13 // 3)\n",
        "\n",
        "## Módulo\n",
        "print(\"Resto da divisão: \", 10 % 3)\n",
        "\n",
        "## Potencia\n",
        "print(\"Potência: \", 4 ** 5)"
      ]
    },
    {
      "cell_type": "markdown",
      "source": [
        "# Precedência\n",
        "\n",
        "Na matemática existe uma regra que indica quais operações devem ser executadas primeiro. Isso é útil pois ao analisar uma expressão, a depender da orem das operações o valor pode ser diferente:\n",
        "\n",
        "- x = 10 - 5 * 2\n",
        "\n",
        "x é igual a 10 ou 0 ?\n",
        "\n",
        "A definição indica a seguinte ordem como a correta:\n",
        "\n",
        "- Parêntesis\n",
        "- Expoêntes\n",
        "- Multiplicação e divisões ( da esquerda para direita)\n",
        "- Somas e subtrações (da esquerda para direita)\n"
      ],
      "metadata": {
        "id": "uX3YIM4C4giR"
      }
    },
    {
      "cell_type": "code",
      "source": [
        "print(10 - 5 * 2)\n",
        "print((10 - 5) * 2)\n",
        "print(10 ** 2 * 2)\n",
        "print(10 ** ( 2 * 2))\n",
        "print(10 / 2 * 4)\n",
        "\n",
        "x = (10 * 5) * 4\n",
        "y = (10 / 2) + (25 * 2) - (2 ** 2)\n",
        "\n",
        "print(x)\n",
        "print(y)\n"
      ],
      "metadata": {
        "colab": {
          "base_uri": "https://localhost:8080/"
        },
        "id": "0wKz0nkO4fPh",
        "outputId": "4ce865ca-063a-4ac9-bd48-35977dfde569"
      },
      "execution_count": null,
      "outputs": [
        {
          "output_type": "stream",
          "name": "stdout",
          "text": [
            "0\n",
            "10\n",
            "200\n",
            "10000\n",
            "20.0\n",
            "200\n",
            "51.0\n"
          ]
        }
      ]
    },
    {
      "cell_type": "markdown",
      "source": [
        "# Operadores de Comparação\n",
        "\n",
        "## O que são ?\n",
        "\n",
        "São operadores utilizados para comparar dois valores."
      ],
      "metadata": {
        "id": "hoQKSMR79DZm"
      }
    },
    {
      "cell_type": "code",
      "source": [
        "saldo = 450\n",
        "saque = 200\n",
        "# Operador de igualdade\n",
        "print(\"Saldo é igual que Saque: \", saldo == saque)\n",
        "\n",
        "# Operador de desigualdade\n",
        "print(\"Saldo é desigual que Saque: \", saldo != saque)\n",
        "\n",
        "# Operador maior quê\n",
        "print(\"Saldo é maior que Saque: \", saldo > saque)\n",
        "\n",
        "# Operador maior igual que:\n",
        "print(\"Saldo é maior ou igual que Saque: \", saldo >= saque)\n",
        "\n",
        "# Operador menor que:\n",
        "print(\"Saldo é menor que Saque: \", saldo < saque)\n",
        "\n",
        "# Operador menor ou igual que:\n",
        "print(\"Saldo é menor ou igual que Saque: \", saldo <= saque)"
      ],
      "metadata": {
        "colab": {
          "base_uri": "https://localhost:8080/"
        },
        "id": "at82Z4AV6f6v",
        "outputId": "e97de6d8-6843-47d9-ede8-5ba44b0c7528"
      },
      "execution_count": null,
      "outputs": [
        {
          "output_type": "stream",
          "name": "stdout",
          "text": [
            "Saldo é igual que Saque:  False\n",
            "Saldo é desigual que Saque:  True\n",
            "Saldo é maior que Saque:  True\n",
            "Saldo é maior ou igual que Saque:  True\n",
            "Saldo é menor que Saque:  False\n",
            "Saldo é menor ou igual que Saque:  False\n"
          ]
        }
      ]
    },
    {
      "cell_type": "markdown",
      "source": [
        "# Operadores de atribuição\n",
        "\n",
        "## O que são:\n",
        "\n",
        "São operadores utilizados para definir o valor inicial ou sobrescrever o valor de uma variável."
      ],
      "metadata": {
        "id": "f3HzN6lx-rIV"
      }
    },
    {
      "cell_type": "code",
      "source": [
        "# Atribuição simples: variavel = valor\n",
        "saldo = 500\n",
        "print(\"Atribuição simples: \", saldo)\n",
        "\n",
        "# Atribuição com adiação\n",
        "saldo = 500\n",
        "saldo += 200\n",
        "print(\"Atribuição com Adição: \", saldo)\n",
        "\n",
        "# Atribuição com subtração\n",
        "saldo = 500\n",
        "saldo -= 200\n",
        "print(\"Atribuição com Subtração: \", saldo)\n",
        "\n",
        "# Atribuição com multiplicação\n",
        "saldo = 500\n",
        "saldo *= 2\n",
        "print(\"Atribuição com Multiplicação: \", saldo)\n",
        "\n",
        "# Atribuição com divisão\n",
        "saldo = 500\n",
        "saldo /= 2\n",
        "print(\"Atribuição com Divisão: \", saldo)\n",
        "\n",
        "# Atribuição com divisão Inteira\n",
        "saldo = 500\n",
        "saldo //= 2\n",
        "print(\"Atribuição com Divisão Inteira: \", saldo)\n",
        "\n",
        "# Atribuição com Resto da divisão\n",
        "saldo = 500\n",
        "saldo %= 2\n",
        "print(\"Atribuição com Resto da Divisão: \", saldo)\n",
        "\n",
        "# Atribuição com Potência\n",
        "saldo = 5\n",
        "saldo **= 2\n",
        "print(\"Atribuição com Potência: \", saldo)\n"
      ],
      "metadata": {
        "colab": {
          "base_uri": "https://localhost:8080/"
        },
        "id": "igXgWRLe63_k",
        "outputId": "50de556a-36d4-4235-9d45-23819067f6a9"
      },
      "execution_count": null,
      "outputs": [
        {
          "output_type": "stream",
          "name": "stdout",
          "text": [
            "Atribuição simples:  500\n",
            "Atribuição com Adição:  700\n",
            "Atribuição com Subtração:  300\n",
            "Atribuição com Multiplicação:  1000\n",
            "Atribuição com Divisão:  250.0\n",
            "Atribuição com Divisão Inteira:  250\n",
            "Atribuição com Resto da Divisão:  0\n",
            "Atribuição com Potência:  25\n"
          ]
        }
      ]
    },
    {
      "cell_type": "markdown",
      "source": [
        "# Operadores Lógicos\n",
        "\n",
        "## O que são:\n",
        "\n",
        "São operadores utilizados em conjuntos com os operadores de comparação, para montar uma expressão lógica. Quando um operador de comparação é utilizado, o resultado retornado é um booleano, dessa forma podemos combinar aoperadores de comparação com os operadores lógicos, exemplos:\n",
        "\n",
        "op_comparação + op_logico + op_ comparação... N...\n",
        "\n",
        "## Tabela verdade\n",
        "\n",
        "### AND(E)\n",
        "\n",
        "- True and True = True\n",
        "- True and False = False\n",
        "- False and True = False\n",
        "- False and False = False\n",
        "\n",
        "### OR (OU)\n",
        "\n",
        "- True and True = True\n",
        "- True and False = True\n",
        "- False and True = True\n",
        "- False and False = False"
      ],
      "metadata": {
        "id": "K6IKTnfnEODH"
      }
    },
    {
      "cell_type": "code",
      "source": [
        "saldo = 1000\n",
        "saque = 200\n",
        "limite = 100\n",
        "\n",
        "# Operador and\n",
        "print(saldo >= saque and saque <= limite)\n",
        "\n",
        "# Operador or\n",
        "print(saldo >= saque or saque <= limite)\n",
        "\n",
        "# Operador de negação com igualdade\n",
        "print(not saldo == saque)\n",
        "\n",
        "# Operador de negação com desigualdade\n",
        "print(not saldo != saque)\n",
        "\n",
        "# Operador de negação com maior que\n",
        "print(not saldo > saque)\n",
        "\n",
        "# Operador de negação com maior igual que\n",
        "print(not saldo >= saque)\n",
        "\n",
        "# Operador de negação com menor que\n",
        "print(not saldo < saque)\n",
        "\n",
        "# Operador de negação com menor igual a que\n",
        "print(not saldo <= saque)\n",
        "\n",
        "# String vazia é False\n",
        "contatos_emergencia = []\n",
        "print(not contatos_emergencia)\n",
        "\n",
        "conta_especial = True\n",
        "\n",
        "# Precedência com operadores logicos\n",
        "# Essa maneira não é uma boa pratica, pois não fica muito legivel\n",
        "print(saldo >= saque and saque <= limite or conta_especial and saldo >= saque)\n",
        "# Para resolver isso é constume usar parenteses\n",
        "print((saldo >= saque and saque <= limite) or (conta_especial and saldo >= saque))\n"
      ],
      "metadata": {
        "colab": {
          "base_uri": "https://localhost:8080/"
        },
        "id": "a0y8tME5DRRJ",
        "outputId": "8683b592-65a1-41d4-f267-c2548fb38353"
      },
      "execution_count": null,
      "outputs": [
        {
          "output_type": "stream",
          "name": "stdout",
          "text": [
            "False\n",
            "True\n",
            "True\n",
            "False\n",
            "False\n",
            "False\n",
            "True\n",
            "True\n",
            "True\n",
            "True\n",
            "True\n"
          ]
        }
      ]
    },
    {
      "cell_type": "markdown",
      "source": [
        "# Operadores de identidade\n",
        "\n",
        "## O que são:\n",
        "\n",
        "São operadores utilizados para comparar se os dois objetos testados ocupam a mesma posição na memoria.\n"
      ],
      "metadata": {
        "id": "VUo7ouhLzI6B"
      }
    },
    {
      "cell_type": "code",
      "source": [
        "curso = \"Curso de Python\"\n",
        "nome_curso = curso\n",
        "saldo, limite = 200, 200\n",
        "\n",
        "print(curso is nome_curso)\n",
        "print(curso is not nome_curso)\n",
        "print(saldo is limite)\n"
      ],
      "metadata": {
        "colab": {
          "base_uri": "https://localhost:8080/"
        },
        "id": "qLt2P9g0J46H",
        "outputId": "eeb32703-be9f-4c4a-84b6-1e03508064f1"
      },
      "execution_count": null,
      "outputs": [
        {
          "output_type": "stream",
          "name": "stdout",
          "text": [
            "True\n",
            "False\n",
            "True\n"
          ]
        }
      ]
    },
    {
      "cell_type": "markdown",
      "source": [
        "# Operadores de associação\n",
        "\n",
        "## O que são:\n",
        "\n",
        "São operadores utilizados para verificar se um objeto está presente em uma sequencia\n"
      ],
      "metadata": {
        "id": "J7hfyZrl0QIr"
      }
    },
    {
      "cell_type": "code",
      "source": [
        "curso = \"Curso de Python\"\n",
        "frutas = [\"laranja\", \"uva\", \"limão\"]\n",
        "saques = [1500, 100]\n",
        "\n",
        "print(\"Python\" in curso)\n",
        "print(\"maçã\" not in frutas)\n",
        "print(200 in saques)"
      ],
      "metadata": {
        "colab": {
          "base_uri": "https://localhost:8080/"
        },
        "id": "bj2RnqCuzwno",
        "outputId": "06e0db93-5a2d-45df-ecbb-c4093b70959e"
      },
      "execution_count": null,
      "outputs": [
        {
          "output_type": "stream",
          "name": "stdout",
          "text": [
            "True\n",
            "True\n",
            "False\n"
          ]
        }
      ]
    },
    {
      "cell_type": "code",
      "source": [],
      "metadata": {
        "id": "oezOOQqa0wZu"
      },
      "execution_count": null,
      "outputs": []
    }
  ]
}