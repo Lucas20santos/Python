{
  "nbformat": 4,
  "nbformat_minor": 0,
  "metadata": {
    "colab": {
      "provenance": [],
      "authorship_tag": "ABX9TyOkAcJRNgLyPnotQftPfehW",
      "include_colab_link": true
    },
    "kernelspec": {
      "name": "python3",
      "display_name": "Python 3"
    },
    "language_info": {
      "name": "python"
    }
  },
  "cells": [
    {
      "cell_type": "markdown",
      "metadata": {
        "id": "view-in-github",
        "colab_type": "text"
      },
      "source": [
        "<a href=\"https://colab.research.google.com/github/Lucas20santos/Python/blob/main/Estrutura_de_Repeticao.ipynb\" target=\"_parent\"><img src=\"https://colab.research.google.com/assets/colab-badge.svg\" alt=\"Open In Colab\"/></a>"
      ]
    },
    {
      "cell_type": "markdown",
      "source": [
        "# Estruturas de repetição\n",
        "\n",
        "## O que são estruturas de repetição ?\n",
        "\n",
        "São estruturas utilizadas para repetir um trecho de codigo um determinado número de vezes. Esse número pode ser conhecido previamente ou determinado através de uma expressão lógica.\n",
        "\n",
        "\n",
        "\n"
      ],
      "metadata": {
        "id": "ytvLy7mtfG97"
      }
    },
    {
      "cell_type": "code",
      "execution_count": null,
      "metadata": {
        "colab": {
          "base_uri": "https://localhost:8080/"
        },
        "id": "wvNnb_hmfBf-",
        "outputId": "9ab1183a-2701-4b1d-c7be-8d17f57ec51b"
      },
      "outputs": [
        {
          "output_type": "stream",
          "name": "stdout",
          "text": [
            "Informe um número inteiro: 3\n",
            "4\n",
            "5\n"
          ]
        }
      ],
      "source": [
        "a = int(input(\"Informe um número inteiro: \"))\n",
        "\n",
        "a += 1\n",
        "print(a)\n",
        "\n",
        "a += 1\n",
        "print(a)\n"
      ]
    },
    {
      "cell_type": "markdown",
      "source": [
        "## Comando for e a função built-in range\n",
        "\n",
        "### Comando for\n",
        "\n",
        "O comando for é usado para percorrer um objeto iterável. Faz sentido usar for quando sabemos o númeor exata de vezes que nosso bloco de código deve ser executado, ou quando queremos percorrer um objeto iterável."
      ],
      "metadata": {
        "id": "3kKaMYTsfgMv"
      }
    },
    {
      "cell_type": "code",
      "source": [
        "texto = input(\"Informe um texto: \")\n",
        "VOGAIS = \"AEIOUY\"\n",
        "\n",
        "for letra in texto:\n",
        "  if letra.upper() in VOGAIS:\n",
        "    print(letra, end=\" \")\n"
      ],
      "metadata": {
        "colab": {
          "base_uri": "https://localhost:8080/"
        },
        "id": "wBSjAVxXg0YQ",
        "outputId": "81c90f27-f87a-4da6-dd67-2a60b5111b3f"
      },
      "execution_count": null,
      "outputs": [
        {
          "output_type": "stream",
          "name": "stdout",
          "text": [
            "Informe um texto: Python\n",
            "y o "
          ]
        }
      ]
    },
    {
      "cell_type": "code",
      "source": [
        "texto = input(\"Informe um texto: \")\n",
        "VOGAIS = \"AEIOUY\"\n",
        "\n",
        "for letra in texto:\n",
        "  if letra.upper() in VOGAIS:\n",
        "    print(letra, end=\" \")\n",
        "else:\n",
        "  print()\n",
        "  print(\"Executa no final do laço\")"
      ],
      "metadata": {
        "colab": {
          "base_uri": "https://localhost:8080/"
        },
        "id": "B08LPthmjQCC",
        "outputId": "28ed3365-65e7-47f9-ef78-0fd930c87956"
      },
      "execution_count": null,
      "outputs": [
        {
          "output_type": "stream",
          "name": "stdout",
          "text": [
            "Informe um texto: Lucas\n",
            "u a \n",
            "Executa no final do laço\n"
          ]
        }
      ]
    },
    {
      "cell_type": "markdown",
      "source": [
        "### Função range\n",
        "\n",
        "Range é uma função built-in do Python, ela é usada para produzir uma sequência de núemros inteiros a partir de um ínicio (inclusivo) para um fim (exclusivo). Se usarmos range(i, j) será produzido:\n",
        "\n",
        "i, i+1, i+2, i+3, ..., j-1\n",
        "\n",
        "Ela recebe 3 argumentos: stop(obrigatorio), start(opcional) e step(opcional).\n"
      ],
      "metadata": {
        "id": "zrgSLVEjjn3U"
      }
    },
    {
      "cell_type": "code",
      "source": [
        "print(list(range(4)))\n",
        "\n",
        "# utilizando range com for\n",
        "\n",
        "for num in range(0, 51, 5):\n",
        "  print(num, end=\" \")\n",
        "print()\n",
        "for num in range(0, 11):\n",
        "  print(num, end=\" \")\n",
        "print()\n",
        "print(\"Tabuada do 2:\")\n",
        "for num in range(11):\n",
        "  print(f\"{2} x {num} = {2 * num}\")\n",
        "\n"
      ],
      "metadata": {
        "colab": {
          "base_uri": "https://localhost:8080/"
        },
        "id": "TdM2CIB2kwMK",
        "outputId": "b2d6c467-940d-4c74-c3dd-2ecd952339ec"
      },
      "execution_count": null,
      "outputs": [
        {
          "output_type": "stream",
          "name": "stdout",
          "text": [
            "[0, 1, 2, 3]\n",
            "0 5 10 15 20 25 30 35 40 45 50 \n",
            "0 1 2 3 4 5 6 7 8 9 10 \n",
            "Tabuada do 2\n",
            "2 x 0 = 0\n",
            "2 x 1 = 2\n",
            "2 x 2 = 4\n",
            "2 x 3 = 6\n",
            "2 x 4 = 8\n",
            "2 x 5 = 10\n",
            "2 x 6 = 12\n",
            "2 x 7 = 14\n",
            "2 x 8 = 16\n",
            "2 x 9 = 18\n",
            "2 x 10 = 20\n"
          ]
        }
      ]
    },
    {
      "cell_type": "markdown",
      "source": [
        "## Comando while\n",
        "\n",
        "O comando while é usado para repetir um bloco de codigo varias vezes. Faz sentido usar while quando não sabemos o numero exata de vezes que nosso bloco de codigo deve ser executado.\n",
        "\n"
      ],
      "metadata": {
        "id": "ednf4Crgfkah"
      }
    },
    {
      "cell_type": "code",
      "source": [
        "opcao = -1\n",
        "\n",
        "while opcao != 0:\n",
        "  opcao = int(input(\"[1] Sacar\\n[2] Extrato\\n[0] Sair \\n\"))\n",
        "  if opcao == 1:\n",
        "    print(\"Sacando!\")\n",
        "  if opcao == 2:\n",
        "    print(\"Exibindo o extrato!\")\n",
        "print(\"Finalizando!\")\n",
        "\n",
        "# Estrutura de repetição com Break\n",
        "opcao = -1\n",
        "\n",
        "while True:\n",
        "  opcao = int(input(\"Informe um número - Digite 10 para sair: \"))\n",
        "\n",
        "  if opcao == 10:\n",
        "    break\n"
      ],
      "metadata": {
        "colab": {
          "base_uri": "https://localhost:8080/"
        },
        "id": "uc8BtTdsVLL9",
        "outputId": "6ea262c0-a97d-49f8-d0bd-ac473ef6eecd"
      },
      "execution_count": null,
      "outputs": [
        {
          "name": "stdout",
          "output_type": "stream",
          "text": [
            "[1] Sacar\n",
            "[2] Extrato\n",
            "[0] Sair \n",
            "0\n",
            "Finalizando!\n",
            "Informe um número - Digite 10 para sair: 1\n",
            "Informe um número - Digite 10 para sair: 2\n",
            "Informe um número - Digite 10 para sair: 3\n",
            "Informe um número - Digite 10 para sair: 4\n",
            "Informe um número - Digite 10 para sair: 5\n",
            "Informe um número - Digite 10 para sair: 6\n",
            "Informe um número - Digite 10 para sair: 7\n",
            "Informe um número - Digite 10 para sair: 8\n",
            "Informe um número - Digite 10 para sair: 9\n",
            "Informe um número - Digite 10 para sair: 10\n"
          ]
        }
      ]
    }
  ]
}