{
 "cells": [
  {
   "cell_type": "code",
   "execution_count": 9,
   "metadata": {},
   "outputs": [
    {
     "name": "stdout",
     "output_type": "stream",
     "text": [
      "Operações: +100, -50, +200, Saque não permitido; Saldo: 250\n"
     ]
    }
   ],
   "source": [
    "''' \n",
    "Para ler e escrever dados em Python, utilizamos as seguintes funções: \n",
    "- input: lê UMA linha com dado(s) de Entrada do usuário;\n",
    "- print: imprime um texto de Saída (Output), pulando linha.  \n",
    "'''\n",
    "\n",
    "class ContaBancaria:\n",
    "    # TODO: Inicialize a conta bancária com o nome do titular, saldo 0 e  liste para armazenar as operações realizadas:\n",
    "    def __init__(self, titular):\n",
    "      self.titular = titular\n",
    "      self.saldo = 0\n",
    "      self.operacoes = \"Operações: \"\n",
    "      self.operacoesList = []\n",
    "\n",
    "    # TODO: Implemente o método para realizar um depósito, adicione o valor ao saldo e registre a operação:\n",
    "    def depositar(self, valor):\n",
    "      self.saldo = self.saldo + valor\n",
    "      self.operacoesList.append(\"+\" + str(valor))\n",
    "    # TODO: Implemente o método para realizar um saque:\n",
    "    def sacar(self, valor):\n",
    "      # TODO: Verifique se há saldo suficiente para o saque\n",
    "      if self.saldo >= abs(valor):\n",
    "        # TODO: Subtraia o valor do saldo (valor já é negativo)\n",
    "        self.saldo = self.saldo + valor\n",
    "        self.operacoesList.append(str(valor))\n",
    "      else:\n",
    "        # TODO: Registre a operação e retorne a  mensagem de saque negado\n",
    "        self.operacoesList.append(f\"Saque não permitido\")\n",
    "\n",
    "    # TODO: Crie o método para exibir o extrato da conta e junte as operações no formato correto:\n",
    "    def extrato(self):\n",
    "      print(f\"{self.operacoes}{\", \".join([str(valor) for valor in self.operacoesList])}; Saldo: {self.saldo}\")\n",
    "\n",
    "\n",
    "nome_titular = input().strip()  \n",
    "conta = ContaBancaria(nome_titular)  \n",
    "\n",
    "entrada_transacoes = input().strip()\n",
    "transacoes = [int(valor) for valor in entrada_transacoes.split(\",\")]  \n",
    "\n",
    "for valor in transacoes:\n",
    "    if valor > 0:\n",
    "        conta.depositar(valor)\n",
    "    else:\n",
    "        conta.sacar(valor)\n",
    "\n",
    "conta.extrato()"
   ]
  },
  {
   "cell_type": "code",
   "execution_count": 3,
   "metadata": {},
   "outputs": [
    {
     "name": "stdout",
     "output_type": "stream",
     "text": [
      "100, 23\n"
     ]
    }
   ],
   "source": [
    "lista = [\"100\", \"23\"]\n",
    "print(\", \".join(lista))"
   ]
  }
 ],
 "metadata": {
  "language_info": {
   "name": "python"
  }
 },
 "nbformat": 4,
 "nbformat_minor": 2
}
