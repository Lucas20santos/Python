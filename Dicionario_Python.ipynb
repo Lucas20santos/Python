{
  "nbformat": 4,
  "nbformat_minor": 0,
  "metadata": {
    "colab": {
      "provenance": [],
      "authorship_tag": "ABX9TyPoHsRIvdxNTahf/WN53LFr",
      "include_colab_link": true
    },
    "kernelspec": {
      "name": "python3",
      "display_name": "Python 3"
    },
    "language_info": {
      "name": "python"
    }
  },
  "cells": [
    {
      "cell_type": "markdown",
      "metadata": {
        "id": "view-in-github",
        "colab_type": "text"
      },
      "source": [
        "<a href=\"https://colab.research.google.com/github/Lucas20santos/Python/blob/main/Dicionario_Python.ipynb\" target=\"_parent\"><img src=\"https://colab.research.google.com/assets/colab-badge.svg\" alt=\"Open In Colab\"/></a>"
      ]
    },
    {
      "cell_type": "markdown",
      "source": [
        "# Dicionário em Python\n",
        "\n",
        "## Criação e acesso aos dados\n",
        "\n",
        "### Criando dicionários\n",
        "\n",
        "Um dicionário é um conjunto não-ordenando de pares chave: valor, onde as chaves são únicas em uma dada instância do dicionário. Dicionáriso são delimitados por chaves: {}, e contém uma lista depares chaves:valor separada por vírgulas.\n",
        "\n"
      ],
      "metadata": {
        "id": "92pWBI9sZudv"
      }
    },
    {
      "cell_type": "code",
      "execution_count": null,
      "metadata": {
        "colab": {
          "base_uri": "https://localhost:8080/"
        },
        "id": "EnFhXdpnZpdi",
        "outputId": "a6cc5ef7-cc77-422e-ba3c-242e67330f2b"
      },
      "outputs": [
        {
          "output_type": "stream",
          "name": "stdout",
          "text": [
            "{'nome': 'Lucas', 'idade': 29}\n",
            "{'nome': 'Lucas', 'idade': 29}\n",
            "{'nome': 'Lucas', 'idade': 29, 'telefone': '3333-4444'}\n"
          ]
        }
      ],
      "source": [
        "pessoa = {\"nome\": \"Lucas\", \"idade\": 29}\n",
        "print(pessoa)\n",
        "\n",
        "pessoa = dict(nome=\"Lucas\", idade=29)\n",
        "print(pessoa)\n",
        "\n",
        "pessoa[\"telefone\"] = \"3333-4444\"\n",
        "print(pessoa)"
      ]
    },
    {
      "cell_type": "markdown",
      "source": [
        "### Acesso aos dados\n",
        "\n",
        "Os dados são acessados e modificados através da chave."
      ],
      "metadata": {
        "id": "gVHgPTUicVtF"
      }
    },
    {
      "cell_type": "code",
      "source": [
        "dados = {\"nome\": \"Lucas\", \"idade\": 28, \"telefone\": \"3333-1234\"}\n",
        "\n",
        "print(dados[\"nome\"])\n",
        "print(dados[\"idade\"])\n",
        "print(dados[\"telefone\"])\n",
        "\n",
        "dados[\"idade\"] = 30\n",
        "dados[\"nome\"] = \"Gilherme\"\n",
        "dados[\"telefone\"] = \"1234-5543\"\n",
        "\n",
        "print(dados)\n"
      ],
      "metadata": {
        "colab": {
          "base_uri": "https://localhost:8080/"
        },
        "id": "13Dr2IqjceV8",
        "outputId": "e65f0b0d-48d9-48d1-f4e9-0fbd9af14c66"
      },
      "execution_count": null,
      "outputs": [
        {
          "output_type": "stream",
          "name": "stdout",
          "text": [
            "Lucas\n",
            "28\n",
            "3333-1234\n",
            "{'nome': 'Gilherme', 'idade': 30, 'telefone': '1234-5543'}\n"
          ]
        }
      ]
    },
    {
      "cell_type": "markdown",
      "source": [
        "### Dicionários aninhados\n",
        "\n",
        "Dicionários podem armazenar qualquer tipo de objeto Python como valor, desde que a chave para esse valor seja um objeto imutável (strings e números)."
      ],
      "metadata": {
        "id": "7QbUMAIWdLzJ"
      }
    },
    {
      "cell_type": "code",
      "source": [
        "contatos = {\n",
        "    \"guimerme@gmail.com\": {\"nome\": \"Guilherme\", \"telefone\": \"3333-1234\"},\n",
        "    \"giovanna@gmail.com\": {\"nome\": \"Giovanna\", \"telefone\": \"3443-2121\"},\n",
        "    \"chappie@gmail.com\": {\"nome\": \"Chappie\", \"telefone\": \"3445-2121\"},\n",
        "    \"melaine@gmail.com\": {\"nome\": \"Melaine\", \"telefone\": \"3443-2122\"}\n",
        "}\n",
        "\n",
        "contatos[\"chappie@gmail.com\"][\"nome\"]\n"
      ],
      "metadata": {
        "colab": {
          "base_uri": "https://localhost:8080/",
          "height": 36
        },
        "id": "VYnf1Ktddb-M",
        "outputId": "ccc50f53-d938-4f91-bdb9-30e4b74ec06f"
      },
      "execution_count": null,
      "outputs": [
        {
          "output_type": "execute_result",
          "data": {
            "text/plain": [
              "'Chappie'"
            ],
            "application/vnd.google.colaboratory.intrinsic+json": {
              "type": "string"
            }
          },
          "metadata": {},
          "execution_count": 18
        }
      ]
    },
    {
      "cell_type": "markdown",
      "source": [
        "### Iterar dicionários\n",
        "\n",
        "A forma mais comum para percorrer os dados de um dicionário é utilizando o comando **for**."
      ],
      "metadata": {
        "id": "RqrrtY0kfKXP"
      }
    },
    {
      "cell_type": "code",
      "source": [
        "for chave in contatos:\n",
        "  print(chave, contatos[chave])\n",
        "\n",
        "print()\n",
        "\n",
        "for chave, valor in contatos.items():\n",
        "  print(chave)\n",
        "  for ch, val in valor.items():\n",
        "    print(ch, val)\n"
      ],
      "metadata": {
        "colab": {
          "base_uri": "https://localhost:8080/"
        },
        "id": "m7iDyMicfT_2",
        "outputId": "d68766e1-e8ca-47bc-a93d-6d695868672a"
      },
      "execution_count": null,
      "outputs": [
        {
          "output_type": "stream",
          "name": "stdout",
          "text": [
            "guimerme@gmail.com {'nome': 'Guilherme', 'telefone': '3333-1234'}\n",
            "giovanna@gmail.com {'nome': 'Giovanna', 'telefone': '3443-2121'}\n",
            "chappie@gmail.com {'nome': 'Chappie', 'telefone': '3445-2121'}\n",
            "melaine@gmail.com {'nome': 'Melaine', 'telefone': '3443-2122'}\n",
            "\n",
            "guimerme@gmail.com\n",
            "nome Guilherme\n",
            "telefone 3333-1234\n",
            "giovanna@gmail.com\n",
            "nome Giovanna\n",
            "telefone 3443-2121\n",
            "chappie@gmail.com\n",
            "nome Chappie\n",
            "telefone 3445-2121\n",
            "melaine@gmail.com\n",
            "nome Melaine\n",
            "telefone 3443-2122\n"
          ]
        }
      ]
    },
    {
      "cell_type": "markdown",
      "source": [
        "## Métodos da classe dict"
      ],
      "metadata": {
        "id": "vOEbVeQYZ_k1"
      }
    },
    {
      "cell_type": "code",
      "source": [
        "# limpar\n",
        "# contatos.clear()\n",
        "\n",
        "# copiar\n",
        "contatos.copy()\n",
        "\n",
        "# criar dicionario com chaves e valores None\n",
        "cont = dict.fromkeys([\"nome\", \"telefone\"])\n",
        "print(cont)\n",
        "\n",
        "# criar dicionario com chaves e valores Vazio\n",
        "cont1 = dict.fromkeys([\"nome\", \"telefone\"], \"vazio\")\n",
        "print(cont1)\n",
        "\n",
        "# Método get - para quando não temos certeza de existe um valor\n",
        "# contatos[\"chave\"] # gera um erro\n",
        "print(contatos.get(\"chave\"))\n",
        "print(contatos.get(\"chave\", {}))\n",
        "print(contatos.get(\"guilherme@gmail.com\", {}))\n",
        "print(contatos)\n",
        "\n",
        "# retorna cahve e valor\n",
        "print(contatos.items())\n",
        "\n",
        "# retornar as chaves\n",
        "print(contatos.keys())\n",
        "\n",
        "# retornar os valores\n",
        "print(contatos.values())\n",
        "\n",
        "contatos.pop(\"guimerme@gmail.com\")\n",
        "contatos.popitem()\n",
        "\n",
        "cont1.setdefault(\"nome\", \"Lucas\")\n",
        "print(cont1)\n",
        "\n",
        "# Atualiza\n",
        "cont1.update({\"nome\": \"Fernando\"})\n",
        "print(cont1)\n"
      ],
      "metadata": {
        "colab": {
          "base_uri": "https://localhost:8080/"
        },
        "id": "nkQNkypmaCCL",
        "outputId": "7278f83f-5525-4567-8c14-cba382bda9ea"
      },
      "execution_count": null,
      "outputs": [
        {
          "output_type": "stream",
          "name": "stdout",
          "text": [
            "{'nome': None, 'telefone': None}\n",
            "{'nome': 'vazio', 'telefone': 'vazio'}\n",
            "None\n",
            "{}\n",
            "{}\n",
            "{'guimerme@gmail.com': {'nome': 'Guilherme', 'telefone': '3333-1234'}, 'giovanna@gmail.com': {'nome': 'Giovanna', 'telefone': '3443-2121'}, 'chappie@gmail.com': {'nome': 'Chappie', 'telefone': '3445-2121'}, 'melaine@gmail.com': {'nome': 'Melaine', 'telefone': '3443-2122'}}\n",
            "dict_items([('guimerme@gmail.com', {'nome': 'Guilherme', 'telefone': '3333-1234'}), ('giovanna@gmail.com', {'nome': 'Giovanna', 'telefone': '3443-2121'}), ('chappie@gmail.com', {'nome': 'Chappie', 'telefone': '3445-2121'}), ('melaine@gmail.com', {'nome': 'Melaine', 'telefone': '3443-2122'})])\n",
            "dict_keys(['guimerme@gmail.com', 'giovanna@gmail.com', 'chappie@gmail.com', 'melaine@gmail.com'])\n",
            "dict_values([{'nome': 'Guilherme', 'telefone': '3333-1234'}, {'nome': 'Giovanna', 'telefone': '3443-2121'}, {'nome': 'Chappie', 'telefone': '3445-2121'}, {'nome': 'Melaine', 'telefone': '3443-2122'}])\n",
            "{'nome': 'vazio', 'telefone': 'vazio'}\n",
            "{'nome': 'Fernando', 'telefone': 'vazio'}\n"
          ]
        }
      ]
    }
  ]
}