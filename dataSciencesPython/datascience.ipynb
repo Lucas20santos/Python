{
 "cells": [
  {
   "cell_type": "markdown",
   "metadata": {},
   "source": [
    "# Projeto Calculadora Cientifica\n",
    "\n",
    "- Soma\n",
    "- Subtração\n",
    "- Multiplicação\n",
    "- Divisão inteira\n",
    "- Divisão de ponto flutuante\n",
    "- Resto\n",
    "- pontencia e raiz quadrada\n",
    "- logaritmo e exponêncial\n",
    "- Tranformar decimal para binário e vice versa\n",
    "- Funcão seno, coseno, tangente, arcoseno, arcocosseno e arcotangente\n",
    "- transformar graus para radinaos e vice e versa\n"
   ]
  },
  {
   "cell_type": "code",
   "execution_count": 11,
   "metadata": {},
   "outputs": [
    {
     "name": "stdout",
     "output_type": "stream",
     "text": [
      "Operações:\n",
      "\n",
      "    1- Somar;\n",
      "    2- Subtrair;\n",
      "    3- Multiplicar;\n",
      "    4- Dividir;\n",
      "    5- Divisor inteiro e resto da divisão;\n",
      "    6- Potência;\n",
      "    7- Valor absoluto;\n",
      "    \n",
      "|-2| = 2 e |3| = 3\n",
      "Calculadora desligando!\n"
     ]
    }
   ],
   "source": [
    "from math import *\n",
    "\n",
    "ligado:bool = False\n",
    "\n",
    "opcao:str = str(input(\"Quer ligar a calculadora: \")).strip().lower()\n",
    "\n",
    "if opcao[0] in 'sS':\n",
    "    ligado = True\n",
    "\n",
    "while ligado:\n",
    "    print(\"\"\"Operações:\n",
    "\n",
    "1  - Somar;\n",
    "2  - Subtrair;\n",
    "3  - Multiplicar;\n",
    "4  - Dividir;\n",
    "5  - Divisor inteiro e resto da divisão;\n",
    "6  - Potência;\n",
    "7  - Valor absoluto;\n",
    "8  - Raiz quadrada;\n",
    "9  - Exponensial;\n",
    "10 - Logaritmo;\n",
    "11 - Binário\n",
    "12 - Hexadecimal\n",
    "13 - Octal\n",
    "14 - seno\n",
    "15 - cosseno\n",
    "16 - tangente\n",
    "17 - arcoseno\n",
    "18 - arcocosseno\n",
    "19 - arcotangente\n",
    "20 - graus\n",
    "21 - radianos\n",
    "22 - PI\n",
    "23 - Euler\n",
    "24 - Inversa de x = 1/x\n",
    "    \"\"\")\n",
    "\n",
    "    operacaoEscolhida:int = int(input(\"Operação: \"))\n",
    "\n",
    "    while operacaoEscolhida < 0 or operacaoEscolhida > 10:\n",
    "        operacaoEscolhida:int = int(input(\"Informe um operação valida: \"))\n",
    "    \n",
    "    num1:int = int(input('Informe o primeiro número: '))\n",
    "    num2:int = int(input('Informe o segundo número: '))\n",
    "\n",
    "    if operacaoEscolhida == 1:\n",
    "        print(f'{num1} + {num2} = {num1 + num2}')    \n",
    "    if operacaoEscolhida == 2:\n",
    "        print(f'{num1} - {num2} = {num1 - num2}')\n",
    "    if operacaoEscolhida == 3:\n",
    "        print(f'{num1} x {num2} = {num1 * num2}')    \n",
    "    if operacaoEscolhida == 4:\n",
    "        print(f'{num1} / {num2} = {num1 / num2}')    \n",
    "    if operacaoEscolhida == 5:\n",
    "        print(f'{num1} // {num2} = {num1 // num2} e {num1} % {num2} = {num1 % num2}')\n",
    "    if operacaoEscolhida == 6:\n",
    "        print(f'{num1} ** {num2} = {num1 ** num2}')\n",
    "    if operacaoEscolhida == 7:\n",
    "        print(f'|{num1}| = {abs(num1)} e |{num2}| = {abs(num2)}')\n",
    "    if operacaoEscolhida == 8:\n",
    "        print(f'|{num1}| = {abs(num1)} e |{num2}| = {abs(num2)}')\n",
    "    if operacaoEscolhida == 9:\n",
    "        print(f'|{num1}| = {abs(num1)} e |{num2}| = {abs(num2)}')\n",
    "    if operacaoEscolhida == 10:\n",
    "        print(f'|{num1}| = {abs(num1)} e |{num2}| = {abs(num2)}')\n",
    "    if operacaoEscolhida == 11:\n",
    "        print(f'|{num1}| = {abs(num1)} e |{num2}| = {abs(num2)}')\n",
    "    if operacaoEscolhida == 12:\n",
    "        print(f'|{num1}| = {abs(num1)} e |{num2}| = {abs(num2)}')\n",
    "    if operacaoEscolhida == 13:\n",
    "        print(f'|{num1}| = {abs(num1)} e |{num2}| = {abs(num2)}')\n",
    "\n",
    "    opcao = str(input(\"Deseja continuar: \")).strip().lower()\n",
    "    if opcao[0] in 'sS':\n",
    "        ligado = True\n",
    "    else:\n",
    "        ligado = False\n",
    "        print('Calculadora desligando!')\n"
   ]
  }
 ],
 "metadata": {
  "kernelspec": {
   "display_name": "Python 3.9.13 64-bit ('anaconda3')",
   "language": "python",
   "name": "python3"
  },
  "language_info": {
   "codemirror_mode": {
    "name": "ipython",
    "version": 3
   },
   "file_extension": ".py",
   "mimetype": "text/x-python",
   "name": "python",
   "nbconvert_exporter": "python",
   "pygments_lexer": "ipython3",
   "version": "3.9.13"
  },
  "orig_nbformat": 4,
  "vscode": {
   "interpreter": {
    "hash": "b374090b9e3a91cb378a355e74cf53c50c11ec9e2ebccc4044b96376c21acf49"
   }
  }
 },
 "nbformat": 4,
 "nbformat_minor": 2
}
