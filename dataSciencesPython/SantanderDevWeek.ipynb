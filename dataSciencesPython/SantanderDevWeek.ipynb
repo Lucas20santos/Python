{
 "cells": [
  {
   "cell_type": "code",
   "execution_count": null,
   "metadata": {},
   "outputs": [],
   "source": [
    "import pandas as pd\n",
    "\n",
    "sdw2024_api_url = \"https://sdw-2023-prd.up.railway.app\"\n",
    "\n",
    "\n",
    "df = pd.read_csv('users.csv')\n",
    "users_id = df['users'].tolist()\n",
    "users_id"
   ]
  }
 ],
 "metadata": {
  "kernelspec": {
   "display_name": "base",
   "language": "python",
   "name": "python3"
  },
  "language_info": {
   "name": "python",
   "version": "3.11.10"
  }
 },
 "nbformat": 4,
 "nbformat_minor": 2
}
